{
 "cells": [
  {
   "cell_type": "code",
   "execution_count": 2,
   "id": "bfc14a8b",
   "metadata": {},
   "outputs": [],
   "source": [
    "using ITensors, ITensorMPS\n",
    "using LinearAlgebra"
   ]
  },
  {
   "cell_type": "code",
   "execution_count": 3,
   "id": "f2262052",
   "metadata": {},
   "outputs": [
    {
     "data": {
      "text/plain": [
       "forced_doubled_measure_with_val (generic function with 2 methods)"
      ]
     },
     "metadata": {},
     "output_type": "display_data"
    }
   ],
   "source": [
    "include(\"src/main.jl\")\n",
    "include(\"src/observables.jl\")\n",
    "include(\"src/states.jl\")\n",
    "include(\"src/doubled_measurements.jl\")"
   ]
  },
  {
   "cell_type": "code",
   "execution_count": 4,
   "id": "2832a1ee",
   "metadata": {},
   "outputs": [
    {
     "data": {
      "text/plain": [
       "(MPS\n",
       "[1] ((dim=2|id=42|\"Qubit,Site,n=1\"), (dim=4|id=413|\"Link,l=1\"))\n",
       "[2] ((dim=2|id=253|\"Qubit,Site,n=2\"), (dim=4|id=197|\"Link,l=2\"), (dim=4|id=413|\"Link,l=1\"))\n",
       "[3] ((dim=2|id=598|\"Qubit,Site,n=3\"), (dim=4|id=591|\"Link,l=3\"), (dim=4|id=197|\"Link,l=2\"))\n",
       "[4] ((dim=2|id=676|\"Qubit,Site,n=4\"), (dim=4|id=840|\"Link,l=4\"), (dim=4|id=591|\"Link,l=3\"))\n",
       "[5] ((dim=2|id=510|\"Qubit,Site,n=5\"), (dim=4|id=831|\"Link,l=5\"), (dim=4|id=840|\"Link,l=4\"))\n",
       "[6] ((dim=2|id=529|\"Qubit,Site,n=6\"), (dim=4|id=830|\"Link,l=6\"), (dim=4|id=831|\"Link,l=5\"))\n",
       "[7] ((dim=2|id=164|\"Qubit,Site,n=7\"), (dim=2|id=681|\"Link,l=7\"), (dim=4|id=830|\"Link,l=6\"))\n",
       "[8] ((dim=2|id=981|\"Qubit,Site,n=8\"), (dim=2|id=681|\"Link,l=7\"))\n",
       ", Index{Int64}[(dim=2|id=42|\"Qubit,Site,n=1\"), (dim=2|id=253|\"Qubit,Site,n=2\"), (dim=2|id=598|\"Qubit,Site,n=3\"), (dim=2|id=676|\"Qubit,Site,n=4\"), (dim=2|id=510|\"Qubit,Site,n=5\"), (dim=2|id=529|\"Qubit,Site,n=6\"), (dim=2|id=164|\"Qubit,Site,n=7\"), (dim=2|id=981|\"Qubit,Site,n=8\")])"
      ]
     },
     "metadata": {},
     "output_type": "display_data"
    }
   ],
   "source": [
    "L = 4\n",
    "ρ, sites = ghz(L)"
   ]
  },
  {
   "cell_type": "code",
   "execution_count": 16,
   "id": "d7180ee9",
   "metadata": {},
   "outputs": [
    {
     "data": {
      "text/plain": [
       "pureghz (generic function with 1 method)"
      ]
     },
     "metadata": {},
     "output_type": "display_data"
    }
   ],
   "source": [
    "function pureghz(L::Int)\n",
    "    sites = siteinds(\"Qubit\", L)\n",
    "    ψ0 = MPS(sites, _ -> \"0\")\n",
    "    ψ1 = MPS(sites, _ -> \"1\")\n",
    "    return (ψ0+ψ1)/sqrt(2), sites\n",
    "end"
   ]
  },
  {
   "cell_type": "code",
   "execution_count": 17,
   "id": "b7c3031c",
   "metadata": {},
   "outputs": [
    {
     "data": {
      "text/plain": [
       "entanglemententropy (generic function with 1 method)"
      ]
     },
     "metadata": {},
     "output_type": "display_data"
    }
   ],
   "source": [
    "function entanglemententropy(psi::MPS, b::Int)\n",
    "    orthogonalize!(psi, b)\n",
    "    if b==1\n",
    "        U,S,V = svd(psi[b], (siteind(psi,b),))\n",
    "    else\n",
    "        U,S,V = svd(psi[b], (linkind(psi, b-1), siteind(psi,b)))\n",
    "    end\n",
    "    SvN = 0.0\n",
    "    for n=1:dim(S, 1)\n",
    "        p = S[n,n]^2\n",
    "        SvN -= p * log(p)\n",
    "    end\n",
    "    return SvN\n",
    "end"
   ]
  },
  {
   "cell_type": "code",
   "execution_count": 18,
   "id": "c48dbfcb",
   "metadata": {},
   "outputs": [
    {
     "data": {
      "text/plain": [
       "(MPS\n",
       "[1] ((dim=2|id=845|\"Qubit,Site,n=1\"), (dim=2|id=782|\"Link,l=1\"))\n",
       "[2] ((dim=2|id=616|\"Qubit,Site,n=2\"), (dim=2|id=322|\"Link,l=2\"), (dim=2|id=782|\"Link,l=1\"))\n",
       "[3] ((dim=2|id=253|\"Qubit,Site,n=3\"), (dim=2|id=262|\"Link,l=3\"), (dim=2|id=322|\"Link,l=2\"))\n",
       "[4] ((dim=2|id=336|\"Qubit,Site,n=4\"), (dim=2|id=262|\"Link,l=3\"))\n",
       ", Index{Int64}[(dim=2|id=845|\"Qubit,Site,n=1\"), (dim=2|id=616|\"Qubit,Site,n=2\"), (dim=2|id=253|\"Qubit,Site,n=3\"), (dim=2|id=336|\"Qubit,Site,n=4\")])"
      ]
     },
     "metadata": {},
     "output_type": "display_data"
    }
   ],
   "source": [
    "ψ, sites = pureghz(4)"
   ]
  },
  {
   "cell_type": "code",
   "execution_count": 24,
   "id": "bfe7c3be",
   "metadata": {},
   "outputs": [
    {
     "data": {
      "text/plain": [
       "0.0"
      ]
     },
     "metadata": {},
     "output_type": "display_data"
    }
   ],
   "source": [
    "entanglemententropy(ψ, 4)"
   ]
  },
  {
   "cell_type": "code",
   "execution_count": 72,
   "id": "60e8e8c3",
   "metadata": {},
   "outputs": [
    {
     "data": {
      "text/plain": [
       "MPS\n",
       "[1] ((dim=2|id=238|\"Qubit,Site,n=1\"), (dim=2|id=21|\"Link,l=1\"))\n",
       "[2] ((dim=2|id=567|\"Qubit,Site,n=2\"), (dim=2|id=863|\"Link,l=2\"), (dim=2|id=21|\"Link,l=1\"))\n",
       "[3] ((dim=2|id=554|\"Qubit,Site,n=3\"), (dim=2|id=612|\"Link,l=3\"), (dim=2|id=863|\"Link,l=2\"))\n",
       "[4] ((dim=2|id=623|\"Qubit,Site,n=4\"), (dim=2|id=612|\"Link,l=3\"))\n"
      ]
     },
     "metadata": {},
     "output_type": "display_data"
    }
   ],
   "source": [
    "orthogonalize!(ψ, 2)"
   ]
  },
  {
   "cell_type": "code",
   "execution_count": 73,
   "id": "71334e6f",
   "metadata": {},
   "outputs": [
    {
     "data": {
      "text/plain": [
       "0.6931471805599454"
      ]
     },
     "metadata": {},
     "output_type": "display_data"
    }
   ],
   "source": [
    "U, S, V = svd(ψ[2], (linkind(ψ, 1), siteind(ψ, 2)))\n",
    "SvN = 0.0\n",
    "for n=1:dim(S, 1)\n",
    "    p = S[n,n]^2\n",
    "    SvN -= p * log(p)\n",
    "end\n",
    "SvN"
   ]
  },
  {
   "cell_type": "code",
   "execution_count": 74,
   "id": "7f8506f0",
   "metadata": {},
   "outputs": [
    {
     "ename": "MethodError",
     "evalue": "MethodError: no method matching _indices(::Tuple{}, ::Nothing)\nThe function `_indices` exists, but no method is defined for this combination of argument types.\n\nClosest candidates are:\n  _indices(::Tuple, !Matched::Vector)\n   @ ITensors ~/.julia/packages/ITensors/rgHig/src/indexset.jl:59\n  _indices(!Matched::Vector, ::Any)\n   @ ITensors ~/.julia/packages/ITensors/rgHig/src/indexset.jl:56\n  _indices(::Any, !Matched::Vector)\n   @ ITensors ~/.julia/packages/ITensors/rgHig/src/indexset.jl:57\n  ...\n",
     "output_type": "error",
     "traceback": [
      "MethodError: no method matching _indices(::Tuple{}, ::Nothing)\n",
      "The function `_indices` exists, but no method is defined for this combination of argument types.\n",
      "\n",
      "Closest candidates are:\n",
      "  _indices(::Tuple, !Matched::Vector)\n",
      "   @ ITensors ~/.julia/packages/ITensors/rgHig/src/indexset.jl:59\n",
      "  _indices(!Matched::Vector, ::Any)\n",
      "   @ ITensors ~/.julia/packages/ITensors/rgHig/src/indexset.jl:56\n",
      "  _indices(::Any, !Matched::Vector)\n",
      "   @ ITensors ~/.julia/packages/ITensors/rgHig/src/indexset.jl:57\n",
      "  ...\n",
      "\n",
      "\n",
      "Stacktrace:\n",
      "  [1] BottomRF\n",
      "    @ ./reduce.jl:86 [inlined]\n",
      "  [2] afoldl(::Base.BottomRF{typeof(ITensors._indices)}, ::Tuple{}, ::Nothing, ::Index{Int64})\n",
      "    @ Base ./operators.jl:553\n",
      "  [3] _foldl_impl(op::Base.BottomRF{typeof(ITensors._indices)}, init::Tuple{}, itr::Tuple{Nothing, Index{Int64}})\n",
      "    @ Base ./reduce.jl:68\n",
      "  [4] foldl_impl(op::Base.BottomRF{typeof(ITensors._indices)}, nt::Tuple{}, itr::Tuple{Nothing, Index{Int64}})\n",
      "    @ Base ./reduce.jl:48\n",
      "  [5] mapfoldl_impl(f::typeof(identity), op::typeof(ITensors._indices), nt::Tuple{}, itr::Tuple{Nothing, Index{Int64}})\n",
      "    @ Base ./reduce.jl:44\n",
      "  [6] mapfoldl(f::Function, op::Function, itr::Tuple{Nothing, Index{Int64}}; init::Tuple{})\n",
      "    @ Base ./reduce.jl:175\n",
      "  [7] mapfoldl\n",
      "    @ ./reduce.jl:175 [inlined]\n",
      "  [8] mapreduce\n",
      "    @ ./reduce.jl:307 [inlined]\n",
      "  [9] #reduce#341\n",
      "    @ ./reduce.jl:487 [inlined]\n",
      " [10] indices(x::Tuple{Nothing, Index{Int64}})\n",
      "    @ ITensors ~/.julia/packages/ITensors/rgHig/src/indexset.jl:63\n",
      " [11] svd(A::ITensor, Linds::Tuple{Nothing, Index{Int64}}; leftdir::Nothing, rightdir::Nothing, lefttags::Nothing, righttags::Nothing, mindim::Nothing, maxdim::Nothing, cutoff::Nothing, alg::Nothing, use_absolute_cutoff::Nothing, use_relative_cutoff::Nothing, min_blockdim::Nothing, utags::Nothing, vtags::Nothing)\n",
      "    @ ITensors ~/.julia/packages/ITensors/rgHig/src/tensor_operations/matrix_decomposition.jl:135\n",
      " [12] svd(A::ITensor, Linds::Tuple{Nothing, Index{Int64}})\n",
      "    @ ITensors ~/.julia/packages/ITensors/rgHig/src/tensor_operations/matrix_decomposition.jl:110\n",
      " [13] entanglemententropy(psi::MPS, b::Int64)\n",
      "    @ Main ~/Code/2025_ZZX_TNs/jl_notebook_cell_df34fa98e69747e1a8f8a730347b8e2f_X11sZmlsZQ==.jl:3\n",
      " [14] top-level scope\n",
      "    @ ~/Code/2025_ZZX_TNs/jl_notebook_cell_df34fa98e69747e1a8f8a730347b8e2f_X13sZmlsZQ==.jl:2"
     ]
    }
   ],
   "source": [
    "ψ, sites = pureghz(4)\n",
    "entanglemententropy(ψ, 1)"
   ]
  },
  {
   "cell_type": "code",
   "execution_count": 32,
   "id": "2f433d27",
   "metadata": {},
   "outputs": [
    {
     "data": {
      "text/plain": [
       "(dim=2|id=317|\"Qubit,Site,n=1\")"
      ]
     },
     "metadata": {},
     "output_type": "display_data"
    }
   ],
   "source": [
    "siteind(ρ,1)"
   ]
  },
  {
   "cell_type": "code",
   "execution_count": 37,
   "id": "b5191294",
   "metadata": {},
   "outputs": [],
   "source": [
    "U, S, V = svd(ρ[2], (linkind(ρ, 1), siteind(ρ, 2)));"
   ]
  },
  {
   "cell_type": "code",
   "execution_count": 55,
   "id": "23b729b3",
   "metadata": {},
   "outputs": [
    {
     "data": {
      "text/plain": [
       "4×4 Matrix{Float64}:\n",
       " 1.0  0.0  0.0  0.0\n",
       " 0.0  1.0  0.0  0.0\n",
       " 0.0  0.0  1.0  0.0\n",
       " 0.0  0.0  0.0  1.0"
      ]
     },
     "metadata": {},
     "output_type": "display_data"
    }
   ],
   "source": [
    "[S[i,j] for i in 1:size(S)[1], j in 1:size(S)[2]]"
   ]
  },
  {
   "cell_type": "code",
   "execution_count": 51,
   "id": "92612067",
   "metadata": {},
   "outputs": [
    {
     "data": {
      "text/plain": [
       "ITensor ord=3 (dim=2|id=107|\"Qubit,Site,n=2\") (dim=4|id=149|\"Link,l=2\") (dim=4|id=719|\"Link,l=1\")\n",
       "NDTensors.Dense{Float64, Vector{Float64}}"
      ]
     },
     "metadata": {},
     "output_type": "display_data"
    }
   ],
   "source": [
    "ρ[2]"
   ]
  },
  {
   "cell_type": "code",
   "execution_count": 25,
   "id": "efe50e2c",
   "metadata": {},
   "outputs": [
    {
     "data": {
      "text/plain": [
       "M_bra (generic function with 1 method)"
      ]
     },
     "metadata": {},
     "output_type": "display_data"
    }
   ],
   "source": [
    "function M_bra(sites::Vector{Index{Int}}, M::AbstractMatrix, pos::Int; ref=false)\n",
    "    M_width = Int(log2(size(M)[1]))\n",
    "    L = length(sites)÷2 - ref\n",
    "\n",
    "    bra = bell(sites)\n",
    "    bra = apply(op(M, [sites[mod1(2*(pos+i),2L)] for i in 0:M_width-1]...), bra)\n",
    "    return bra\n",
    "end"
   ]
  }
 ],
 "metadata": {
  "kernelspec": {
   "display_name": "Julia 1.11.5",
   "language": "julia",
   "name": "julia-1.11"
  },
  "language_info": {
   "file_extension": ".jl",
   "mimetype": "application/julia",
   "name": "julia",
   "version": "1.11.5"
  }
 },
 "nbformat": 4,
 "nbformat_minor": 5
}
