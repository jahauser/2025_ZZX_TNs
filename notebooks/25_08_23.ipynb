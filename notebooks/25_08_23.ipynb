{
 "cells": [
  {
   "cell_type": "code",
   "execution_count": 11,
   "id": "f8b8a30f",
   "metadata": {},
   "outputs": [],
   "source": [
    "using JLD2\n",
    "using Plots\n",
    "using StatsBase\n",
    "using LaTeXStrings\n",
    "using Glob"
   ]
  },
  {
   "cell_type": "code",
   "execution_count": 21,
   "id": "0c8b1212",
   "metadata": {},
   "outputs": [
    {
     "data": {
      "text/plain": [
       "Dict{NTuple{5, Any}, Tuple{Dict{Symbol, Vector{ComplexF64}}, Dict{Symbol, Vector{ComplexF64}}, Int64, Vector{Symbol}, Float64}} with 334 entries:\n",
       "  (24, 50, 0.0, 0.7, 0.05) => (Dict(:κEA=>[24.0+0.0im, 24.0+0.0im, 24.0+0.0im, …\n",
       "  (16, 34, 0.5, 0.7, 0.1)  => (Dict(:κEA=>[16.0+0.0im, 16.0+0.0im, 16.0+0.0im, …\n",
       "  (2, 6, 0.2, 0.7, 0.1)    => (Dict(:κEA=>[2.0+0.0im, 2.0+0.0im, 2.0+0.0im, 1.1…\n",
       "  (16, 34, 0.9, 0.7, 0.05) => (Dict(:κEA=>[16.0+0.0im, 16.0+0.0im, 16.0+0.0im, …\n",
       "  (40, 82, 0.36, 0.7, 0.1) => (Dict(:κEA=>[40.0+0.0im, 40.0+0.0im, 40.0+0.0im, …\n",
       "  (16, 34, 0.3, 0.7, 0.0)  => (Dict(:κEA=>[16.0+0.0im, 16.0+0.0im, 16.0+0.0im, …\n",
       "  (32, 66, 0.1, 0.7, 0.1)  => (Dict(:κEA=>[32.0+0.0im, 32.0+0.0im, 32.0+0.0im, …\n",
       "  (32, 66, 0.7, 0.7, 0.05) => (Dict(:κEA=>[32.0+0.0im, 32.0+0.0im, 32.0+0.0im, …\n",
       "  (32, 66, 1.0, 0.7, 0.1)  => (Dict(:κEA=>[32.0+0.0im, 32.0+0.0im, 32.0+0.0im, …\n",
       "  (16, 34, 1.0, 0.7, 0.45) => (Dict(:κEA=>[16.0+0.0im, 16.0+0.0im, 16.0+0.0im, …\n",
       "  (32, 66, 0.5, 0.7, 0.05) => (Dict(:κEA=>[32.0+0.0im, 32.0+0.0im, 32.0+0.0im, …\n",
       "  (8, 18, 0.1, 0.7, 0.05)  => (Dict(:κEA=>[8.0+0.0im, 8.0+0.0im, 8.0+0.0im, 3.7…\n",
       "  (16, 34, 0.0, 0.7, 0.3)  => (Dict(:κEA=>[16.0+0.0im, 16.0+0.0im, 16.0+0.0im, …\n",
       "  (32, 66, 1.0, 0.7, 0.15) => (Dict(:κEA=>[32.0+0.0im, 32.0+0.0im, 32.0+0.0im, …\n",
       "  (8, 18, 1.0, 0.7, 0.05)  => (Dict(:κEA=>[8.0+0.0im, 8.0+0.0im, 8.0+0.0im, 1.0…\n",
       "  (8, 18, 0.38, 0.7, 0.1)  => (Dict(:κEA=>[8.0+0.0im, 8.0+0.0im, 8.0+0.0im, 1.3…\n",
       "  (32, 66, 0.2, 0.7, 0.0)  => (Dict(:κEA=>[32.0+0.0im, 32.0+0.0im, 32.0+0.0im, …\n",
       "  (16, 34, 0.78, 0.7, 0.1) => (Dict(:κEA=>[16.0+0.0im, 16.0+0.0im, 16.0+0.0im, …\n",
       "  (40, 82, 0.1, 0.7, 0.1)  => (Dict(:κEA=>[40.0+0.0im, 40.0+0.0im, 40.0+0.0im, …\n",
       "  ⋮                        => ⋮"
      ]
     },
     "metadata": {},
     "output_type": "display_data"
    }
   ],
   "source": [
    "data1 = jldopen(\"../data_archive/q_0p10_data/collated_results.jld2\")[\"results\"]\n",
    "data2 = jldopen(\"../data_archive/no_unitary/collated_results.jld2\")[\"results\"]"
   ]
  },
  {
   "cell_type": "code",
   "execution_count": 32,
   "id": "c3853288",
   "metadata": {},
   "outputs": [
    {
     "data": {
      "text/plain": [
       "11-element Vector{Tuple{Tuple{Int64, Int64, Float64, Float64, Float64}, Int64}}:\n",
       " ((8, 18, 0.1, 0.7, 0.1), 1000)\n",
       " ((8, 18, 1.0, 0.7, 0.1), 1000)\n",
       " ((8, 18, 0.2, 0.7, 0.1), 1000)\n",
       " ((8, 18, 0.7, 0.7, 0.1), 1000)\n",
       " ((8, 18, 0.5, 0.7, 0.1), 1000)\n",
       " ((8, 18, 0.3, 0.7, 0.1), 1000)\n",
       " ((8, 18, 0.9, 0.7, 0.1), 1000)\n",
       " ((8, 18, 0.4, 0.7, 0.1), 1000)\n",
       " ((8, 18, 0.6, 0.7, 0.1), 1000)\n",
       " ((8, 18, 0.8, 0.7, 0.1), 1000)\n",
       " ((8, 18, 0.0, 0.7, 0.1), 1000)"
      ]
     },
     "metadata": {},
     "output_type": "display_data"
    }
   ],
   "source": [
    "L = 8\n",
    "[(key, data1[key][3]) for key in keys(data1) if key[1] == L]"
   ]
  },
  {
   "cell_type": "code",
   "execution_count": null,
   "id": "9972b3ed",
   "metadata": {},
   "outputs": [],
   "source": [
    "# missing (q = 0.1, delta = 0.7):\n",
    "# L = 40, lambda = 0.2, 0.3, 0.6, 40 samples\n",
    "# L = 32, lambda = 0.8, 50 samples\n",
    "# L = 24, lambda = 0.3, 200 samples\n",
    "# L = 24, lambda = 0.9, 100 samples\n",
    "# L = 16, lambda = 0.1, 100 samples"
   ]
  },
  {
   "cell_type": "code",
   "execution_count": 56,
   "id": "896049ab",
   "metadata": {},
   "outputs": [
    {
     "data": {
      "text/plain": [
       "14-element Vector{Tuple{Tuple{Int64, Int64, Float64, Float64, Float64}, Int64}}:\n",
       " ((24, 50, 0.38, 0.7, 0.1), 1000)\n",
       " ((24, 50, 0.2, 0.7, 0.1), 1000)\n",
       " ((24, 50, 0.34, 0.7, 0.1), 1000)\n",
       " ((24, 50, 0.0, 0.7, 0.1), 2000)\n",
       " ((24, 50, 0.36, 0.7, 0.1), 1000)\n",
       " ((24, 50, 0.1, 0.7, 0.1), 1000)\n",
       " ((24, 50, 0.3, 0.7, 0.1), 1000)\n",
       " ((24, 50, 0.39, 0.7, 0.1), 1000)\n",
       " ((24, 50, 0.35, 0.7, 0.1), 700)\n",
       " ((24, 50, 0.31, 0.7, 0.1), 1000)\n",
       " ((24, 50, 0.32, 0.7, 0.1), 1000)\n",
       " ((24, 50, 0.4, 0.7, 0.1), 1000)\n",
       " ((24, 50, 0.37, 0.7, 0.1), 900)\n",
       " ((24, 50, 0.33, 0.7, 0.1), 900)"
      ]
     },
     "metadata": {},
     "output_type": "display_data"
    }
   ],
   "source": [
    "[(key, data2[key][3]) for key in keys(data2) if key[1] == 24 && key[5] == 0.1 && key[3] < 0.5] "
   ]
  },
  {
   "cell_type": "code",
   "execution_count": null,
   "id": "8a5cd935",
   "metadata": {},
   "outputs": [],
   "source": [
    "# missing (q = 0.1, delta = 0.7):\n",
    "# L = 40, lambda = 0.35, 40 samples\n",
    "# L = 32, lambda = 0.39 -- 150\n",
    "#                  0.35 -- 50\n",
    "#                  0.31 -- 150\n",
    "#                  0.33 -- 50\n",
    "#                  0.38 -- 150\n",
    "#                  0.34 -- 50\n",
    "#                  0.36 -- 50\n",
    "#                  0.71 -- 200\n",
    "#                  0.74 -- 150\n",
    "#                  0.78 -- 100\n",
    "#                  0.72 -- 150\n",
    "#                  0.73 -- 50\n",
    "#                  0.75 -- 350\n",
    "#                  0.76 -- 350\n",
    "#                  0.77 -- 200\n",
    "# L = 24, lambda = 0.35 -- 300\n",
    "#                  0.37 -- 100\n",
    "#                  0.33 -- 100\n",
    "#                  0.74 -- 100\n",
    "#                  0.78 -- 100\n",
    "#"
   ]
  },
  {
   "cell_type": "code",
   "execution_count": 60,
   "id": "d39a1a66",
   "metadata": {},
   "outputs": [
    {
     "data": {
      "text/plain": [
       "11-element Vector{Tuple{Tuple{Int64, Int64, Float64, Float64, Float64}, Int64}}:\n",
       " ((40, 82, 0.2, 0.7, 0.0), 1000)\n",
       " ((40, 82, 0.0, 0.7, 0.0), 960)\n",
       " ((40, 82, 0.1, 0.7, 0.0), 1000)\n",
       " ((40, 82, 1.0, 0.7, 0.0), 1000)\n",
       " ((40, 82, 0.3, 0.7, 0.0), 1000)\n",
       " ((40, 82, 0.8, 0.7, 0.0), 1000)\n",
       " ((40, 82, 0.7, 0.7, 0.0), 1000)\n",
       " ((40, 82, 0.5, 0.7, 0.0), 280)\n",
       " ((40, 82, 0.4, 0.7, 0.0), 1000)\n",
       " ((40, 82, 0.6, 0.7, 0.0), 1000)\n",
       " ((40, 82, 0.9, 0.7, 0.0), 1000)"
      ]
     },
     "metadata": {},
     "output_type": "display_data"
    }
   ],
   "source": [
    "[(key, data2[key][3]) for key in keys(data2) if key[1] == 40 && key[5] == 0.0] "
   ]
  },
  {
   "cell_type": "code",
   "execution_count": null,
   "id": "13e2cbab",
   "metadata": {},
   "outputs": [],
   "source": [
    "# missing (can run these PURE!) (q = 0.0, delta = 0.7)\n",
    "# L = 40 lambda 0.0 -- 40\n",
    "#               0.5 -- 1000 (just rerun... and maybe keep separate lol)"
   ]
  },
  {
   "cell_type": "code",
   "execution_count": 53,
   "id": "57ae9b63",
   "metadata": {},
   "outputs": [
    {
     "data": {
      "text/plain": [
       "11-element Vector{Tuple{Tuple{Int64, Int64, Float64, Float64, Float64}, Int64}}:\n",
       " ((40, 82, 0.7, 0.7, 0.05), 840)\n",
       " ((40, 82, 0.5, 0.7, 0.05), 720)\n",
       " ((40, 82, 0.4, 0.7, 0.05), 1000)\n",
       " ((40, 82, 0.6, 0.7, 0.05), 40)\n",
       " ((40, 82, 0.9, 0.7, 0.05), 1000)\n",
       " ((40, 82, 0.2, 0.7, 0.05), 1000)\n",
       " ((40, 82, 0.0, 0.7, 0.05), 1000)\n",
       " ((40, 82, 0.1, 0.7, 0.05), 1000)\n",
       " ((40, 82, 1.0, 0.7, 0.05), 1000)\n",
       " ((40, 82, 0.3, 0.7, 0.05), 1000)\n",
       " ((40, 82, 0.8, 0.7, 0.05), 1000)"
      ]
     },
     "metadata": {},
     "output_type": "display_data"
    }
   ],
   "source": [
    "[(key, data2[key][3]) for key in keys(data2) if key[1] == 40 && key[5] == 0.05] "
   ]
  },
  {
   "cell_type": "code",
   "execution_count": 65,
   "id": "caee1ebf",
   "metadata": {},
   "outputs": [
    {
     "data": {
      "text/plain": [
       "11-element Vector{Tuple{Tuple{Int64, Int64, Float64, Float64, Float64}, Int64}}:\n",
       " ((24, 50, 0.0, 0.7, 0.05), 2000)\n",
       " ((24, 50, 0.0, 0.7, 0.35), 500)\n",
       " ((24, 50, 0.0, 0.7, 0.2), 1000)\n",
       " ((24, 50, 0.0, 0.7, 0.1), 2000)\n",
       " ((24, 50, 0.0, 0.7, 0.15), 1000)\n",
       " ((24, 50, 0.0, 0.7, 0.4), 1000)\n",
       " ((24, 50, 0.0, 0.7, 0.0), 2000)\n",
       " ((24, 50, 0.0, 0.7, 0.45), 1000)\n",
       " ((24, 50, 0.0, 0.7, 0.3), 600)\n",
       " ((24, 50, 0.0, 0.7, 0.5), 1000)\n",
       " ((24, 50, 0.0, 0.7, 0.25), 700)"
      ]
     },
     "metadata": {},
     "output_type": "display_data"
    }
   ],
   "source": [
    "[(key, data2[key][3]) for key in keys(data2) if key[1] == 24 && key[3] == 0.0] "
   ]
  },
  {
   "cell_type": "code",
   "execution_count": 55,
   "id": "6872bf61",
   "metadata": {},
   "outputs": [
    {
     "data": {
      "text/plain": [
       "3-element Vector{Tuple{Tuple{Int64, Int64, Float64, Float64, Float64}, Int64}}:\n",
       " ((40, 82, 1.0, 0.7, 0.1), 1000)\n",
       " ((40, 82, 1.0, 0.7, 0.0), 1000)\n",
       " ((40, 82, 1.0, 0.7, 0.05), 1000)"
      ]
     },
     "metadata": {},
     "output_type": "display_data"
    }
   ],
   "source": [
    "[(key, data2[key][3]) for key in keys(data2) if key[1] == 40 && key[3] == 1.0] "
   ]
  },
  {
   "cell_type": "code",
   "execution_count": null,
   "id": "59346af8",
   "metadata": {},
   "outputs": [],
   "source": []
  }
 ],
 "metadata": {
  "kernelspec": {
   "display_name": "Julia 1.11.6",
   "language": "julia",
   "name": "julia-1.11"
  },
  "language_info": {
   "file_extension": ".jl",
   "mimetype": "application/julia",
   "name": "julia",
   "version": "1.11.6"
  }
 },
 "nbformat": 4,
 "nbformat_minor": 5
}
