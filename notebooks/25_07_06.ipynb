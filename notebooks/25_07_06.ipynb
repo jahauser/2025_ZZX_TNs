{
 "cells": [
  {
   "cell_type": "code",
   "execution_count": 23,
   "id": "1e9dd52a",
   "metadata": {},
   "outputs": [],
   "source": [
    "using ITensors, ITensorMPS\n",
    "using LinearAlgebra\n",
    "using SparseArrays\n",
    "using Plots"
   ]
  },
  {
   "cell_type": "code",
   "execution_count": 3,
   "id": "353d860d",
   "metadata": {},
   "outputs": [
    {
     "data": {
      "text/plain": [
       "forced_doubled_measure_with_val (generic function with 2 methods)"
      ]
     },
     "metadata": {},
     "output_type": "display_data"
    }
   ],
   "source": [
    "include(\"src/main.jl\")\n",
    "include(\"src/observables.jl\")\n",
    "include(\"src/states.jl\")\n",
    "include(\"src/doubled_measurements.jl\")"
   ]
  },
  {
   "cell_type": "code",
   "execution_count": 4,
   "id": "0492b686",
   "metadata": {},
   "outputs": [
    {
     "data": {
      "text/plain": [
       "rand_X_weak_measurement_layer (generic function with 1 method)"
      ]
     },
     "metadata": {},
     "output_type": "display_data"
    }
   ],
   "source": [
    "include(\"mps.jl\")"
   ]
  },
  {
   "cell_type": "code",
   "execution_count": 5,
   "id": "06da6f91",
   "metadata": {},
   "outputs": [
    {
     "data": {
      "text/plain": [
       "MPS_update_data (generic function with 1 method)"
      ]
     },
     "metadata": {},
     "output_type": "display_data"
    }
   ],
   "source": [
    "function MPS_update_data(ρ::MPS, observables::Vector{Symbol}, data::Dict{Symbol,Vector{Float64}}, t::Int)\n",
    "    if :Ic in observables\n",
    "        data[:Ic][t] = Ic2(ρ)\n",
    "    end\n",
    "    if :SR in observables\n",
    "        data[:SR][t] = SR(ρ)\n",
    "    end\n",
    "    if :κEA in observables\n",
    "        data[:κEA][t] = κEA(ρ)\n",
    "    end\n",
    "    if :κ2 in observables\n",
    "        data[:κ2][t] = κ2(ρ)\n",
    "    end\n",
    "    if :maxlinkdim in observables\n",
    "        data[:maxlinkdim][t] = maxlinkdim(ρ)\n",
    "    end\n",
    "    return data\n",
    "end"
   ]
  },
  {
   "cell_type": "code",
   "execution_count": 6,
   "id": "c4968444",
   "metadata": {},
   "outputs": [
    {
     "data": {
      "text/plain": [
       "circuit (generic function with 1 method)"
      ]
     },
     "metadata": {},
     "output_type": "display_data"
    }
   ],
   "source": [
    "function circuit(L::Int, T::Int, λ::Float64, δ::Float64, q::Float64; observables=Symbol[], cutoff=1E-8, maxdim=200)\n",
    "    ρ, sites = ghz(L)\n",
    "\n",
    "    data = Dict([s => zeros(Float64, T+1) for s in observables])\n",
    "    data = MPS_update_data(ρ, observables, data, 1)\n",
    "\n",
    "    K = atanh(q/(1-q))\n",
    "    Xn = X_noise_layer(K, sites; reference=true)\n",
    "    ZZn = ZZ_noise_layer(K, sites; reference=true)\n",
    "    bell_state = bell(sites)\n",
    "\n",
    "    λzz = δ*(1-λ)\n",
    "    λx = δ*λ\n",
    "\n",
    "    for t in 1:T\n",
    "        ρ = rand_X_weak_measurement_layer(ρ, sites, λx; reference=true)\n",
    "        ρ /= inner(bell_state, ρ)\n",
    "        truncate!(ρ; cutoff=cutoff, maxdim=maxdim)\n",
    "\n",
    "        ρ = apply(Xn, ρ)\n",
    "        ρ /= inner(bell_state, ρ)\n",
    "        truncate!(ρ; cutoff=cutoff, maxdim=maxdim)\n",
    "\n",
    "        ρ = rand_ZZ_weak_measurement_layer(ρ, sites, λzz; reference=true)\n",
    "        ρ /= inner(bell_state, ρ)\n",
    "        truncate!(ρ; cutoff=cutoff, maxdim=maxdim)\n",
    "\n",
    "        ρ = apply(ZZn, ρ)\n",
    "        ρ /= inner(bell_state, ρ)\n",
    "        truncate!(ρ; cutoff=cutoff, maxdim=maxdim)\n",
    "\n",
    "        data = MPS_update_data(ρ, observables, data, t+1)\n",
    "    end\n",
    "\n",
    "    return ρ, data\n",
    "end"
   ]
  },
  {
   "cell_type": "code",
   "execution_count": null,
   "id": "20e912af",
   "metadata": {},
   "outputs": [],
   "source": [
    "L = 8\n",
    "# observables = Symbol[:κEA, :κ2, :Ic, :SR, :maxlinkdim]\n",
    "observables = Symbol[]\n",
    "\n",
    "ρ, data = circuit(L, L, 0.5, 0.5, 0.0; observables=observables)\n",
    "data"
   ]
  },
  {
   "cell_type": "code",
   "execution_count": 75,
   "id": "67640a1d",
   "metadata": {},
   "outputs": [
    {
     "data": {
      "text/plain": [
       "1878624"
      ]
     },
     "metadata": {},
     "output_type": "display_data"
    }
   ],
   "source": [
    "Base.summarysize(ρ)"
   ]
  },
  {
   "cell_type": "code",
   "execution_count": 8,
   "id": "32585238",
   "metadata": {},
   "outputs": [
    {
     "data": {
      "text/plain": [
       "Dict{Symbol, Vector{Float64}} with 5 entries:\n",
       "  :κEA        => [4.0, 3.12127, 1.18879, 1.77035, 1.18965, 1.16697, 1.17826, 1.…\n",
       "  :SR         => [1.0, 0.996102, 0.830513, 0.808103, 0.908528, 0.802629, 0.9227…\n",
       "  :maxlinkdim => [4.0, 16.0, 16.0, 16.0, 16.0, 16.0, 16.0, 16.0, 16.0]\n",
       "  :Ic         => [1.0, 0.971833, 0.256176, 0.172159, 0.162206, 0.018068, 0.0116…\n",
       "  :κ2         => [4.0, 3.85463, 2.62459, 3.24931, 3.24294, 2.87639, 3.48233, 3.…"
      ]
     },
     "metadata": {},
     "output_type": "display_data"
    }
   ],
   "source": [
    "L = 4\n",
    "observables = Symbol[:κEA, :κ2, :Ic, :SR, :maxlinkdim]\n",
    "# observables = Symbol[]\n",
    "\n",
    "ρ, data = circuit(L, 2L, 0.4, 0.7, 0.1; observables=observables)\n",
    "data"
   ]
  },
  {
   "cell_type": "code",
   "execution_count": 15,
   "id": "7f558e75",
   "metadata": {},
   "outputs": [
    {
     "data": {
      "text/plain": [
       "sample (generic function with 1 method)"
      ]
     },
     "metadata": {},
     "output_type": "display_data"
    }
   ],
   "source": [
    "function sample(L::Int, T::Int, λ::Float64, δ::Float64, q::Float64, samples::Int; observables=Symbol[], cutoff=1E-8, maxdim=200)\n",
    "    mean_data = Dict([s => zeros(Float64, T+1) for s in observables])\n",
    "    for _ in 1:samples\n",
    "        _, sample_data = circuit(L, T, λ, δ, q; observables=observables)\n",
    "        for observable in observables\n",
    "            mean_data[observable] += sample_data[observable]\n",
    "        end\n",
    "    end\n",
    "    for observable in observables\n",
    "        mean_data[observable] /= samples\n",
    "    end\n",
    "    return mean_data\n",
    "end"
   ]
  },
  {
   "cell_type": "code",
   "execution_count": 36,
   "id": "c48c018f",
   "metadata": {},
   "outputs": [
    {
     "data": {
      "text/plain": [
       "Dict{Symbol, Vector{Float64}} with 5 entries:\n",
       "  :κEA        => [4.0, 2.85975, 2.47025, 2.27806, 2.22025, 2.18593, 2.14839, 2.…\n",
       "  :SR         => [1.0, 1.0, 1.0, 1.0, 1.0, 1.0, 1.0, 1.0, 1.0]\n",
       "  :maxlinkdim => [4.0, 8.0, 8.0, 8.0, 8.0, 8.0, 8.0, 7.98, 8.0]\n",
       "  :Ic         => [1.0, 0.717043, 0.48034, 0.307858, 0.21533, 0.152383, 0.107701…\n",
       "  :κ2         => [4.0, 4.0, 4.0, 4.0, 4.0, 4.0, 4.0, 4.0, 4.0]"
      ]
     },
     "metadata": {},
     "output_type": "display_data"
    }
   ],
   "source": [
    "L = 4\n",
    "observables = Symbol[:κEA, :κ2, :Ic, :SR, :maxlinkdim]\n",
    "# observables = Symbol[]\n",
    "\n",
    "data = sample(L, 2L, 0.0, 0.7, 0.2, 100; observables=observables)\n",
    "data"
   ]
  },
  {
   "cell_type": "code",
   "execution_count": 37,
   "id": "1cc30841",
   "metadata": {},
   "outputs": [
    {
     "data": {
      "text/plain": [
       "Dict{Symbol, Vector{Float64}} with 5 entries:\n",
       "  :κEA        => [8.0, 5.78875, 5.48724, 5.16516, 4.84684, 4.67721, 4.42606, 4.…\n",
       "  :SR         => [1.0, 1.0, 1.00002, 1.0, 1.00001, 1.00001, 1.0, 1.0, 1.0, 1.00…\n",
       "  :maxlinkdim => [4.0, 8.0, 9.12, 9.13, 9.92, 9.75, 9.87, 9.57, 9.52, 9.69, 9.4…\n",
       "  :Ic         => [1.0, 0.897827, 0.797541, 0.663069, 0.557309, 0.435949, 0.3531…\n",
       "  :κ2         => [8.0, 8.0, 8.0, 8.0, 8.0, 8.0, 8.0, 8.0, 8.0, 8.0, 8.0, 8.0, 8…"
      ]
     },
     "metadata": {},
     "output_type": "display_data"
    }
   ],
   "source": [
    "L = 8\n",
    "observables = Symbol[:κEA, :κ2, :Ic, :SR, :maxlinkdim]\n",
    "# observables = Symbol[]\n",
    "\n",
    "data2 = sample(L, 2L, 0.0, 0.7, 0.2, 100; observables=observables)\n",
    "data2"
   ]
  },
  {
   "cell_type": "code",
   "execution_count": 35,
   "id": "b37d566f",
   "metadata": {},
   "outputs": [
    {
     "data": {
      "image/png": "[encoded data removed]",
      "image/svg+xml": [
       "<?xml version=\"1.0\" encoding=\"utf-8\"?>\n",
       "<svg xmlns=\"http://www.w3.org/2000/svg\" xmlns:xlink=\"http://www.w3.org/1999/xlink\" width=\"600\" height=\"400\" viewBox=\"0 0 2400 1600\">\n",
       "<defs>\n",
       "  <clipPath id=\"clip620\">\n",
       "    <rect x=\"0\" y=\"0\" width=\"2400\" height=\"1600\"/>\n",
       "  </clipPath>\n",
       "</defs>\n",
       "<path clip-path=\"url(#clip620)\" d=\"M0 1600 L2400 1600 L2400 8.88178e-14 L0 8.88178e-14  Z\" fill=\"#ffffff\" fill-rule=\"evenodd\" fill-opacity=\"1\"/>\n",
       "<defs>\n",
       "  <clipPath id=\"clip621\">\n",
       "    <rect x=\"480\" y=\"0\" width=\"1681\" height=\"1600\"/>\n",
       "  </clipPath>\n",
       "</defs>\n",
       "<path clip-path=\"url(#clip620)\" d=\"M186.274 1486.45 L2352.76 1486.45 L2352.76 47.2441 L186.274 47.2441  Z\" fill=\"#ffffff\" fill-rule=\"evenodd\" fill-opacity=\"1\"/>\n",
       "<defs>\n",
       "  <clipPath id=\"clip622\">\n",
       "    <rect x=\"186\" y=\"47\" width=\"2167\" height=\"1440\"/>\n",
       "  </clipPath>\n",
       "</defs>\n",
       "<polyline clip-path=\"url(#clip622)\" style=\"stroke:#000000; stroke-linecap:round; stroke-linejoin:round; stroke-width:2; stroke-opacity:0.1; fill:none\" points=\"608.269,1486.45 608.269,47.2441 \"/>\n",
       "<polyline clip-path=\"url(#clip622)\" style=\"stroke:#000000; stroke-linecap:round; stroke-linejoin:round; stroke-width:2; stroke-opacity:0.1; fill:none\" points=\"1089.18,1486.45 1089.18,47.2441 \"/>\n",
       "<polyline clip-path=\"url(#clip622)\" style=\"stroke:#000000; stroke-linecap:round; stroke-linejoin:round; stroke-width:2; stroke-opacity:0.1; fill:none\" points=\"1570.08,1486.45 1570.08,47.2441 \"/>\n",
       "<polyline clip-path=\"url(#clip622)\" style=\"stroke:#000000; stroke-linecap:round; stroke-linejoin:round; stroke-width:2; stroke-opacity:0.1; fill:none\" points=\"2050.99,1486.45 2050.99,47.2441 \"/>\n",
       "<polyline clip-path=\"url(#clip622)\" style=\"stroke:#000000; stroke-linecap:round; stroke-linejoin:round; stroke-width:2; stroke-opacity:0.1; fill:none\" points=\"186.274,1446.04 2352.76,1446.04 \"/>\n",
       "<polyline clip-path=\"url(#clip622)\" style=\"stroke:#000000; stroke-linecap:round; stroke-linejoin:round; stroke-width:2; stroke-opacity:0.1; fill:none\" points=\"186.274,1106.52 2352.76,1106.52 \"/>\n",
       "<polyline clip-path=\"url(#clip622)\" style=\"stroke:#000000; stroke-linecap:round; stroke-linejoin:round; stroke-width:2; stroke-opacity:0.1; fill:none\" points=\"186.274,767.008 2352.76,767.008 \"/>\n",
       "<polyline clip-path=\"url(#clip622)\" style=\"stroke:#000000; stroke-linecap:round; stroke-linejoin:round; stroke-width:2; stroke-opacity:0.1; fill:none\" points=\"186.274,427.492 2352.76,427.492 \"/>\n",
       "<polyline clip-path=\"url(#clip622)\" style=\"stroke:#000000; stroke-linecap:round; stroke-linejoin:round; stroke-width:2; stroke-opacity:0.1; fill:none\" points=\"186.274,87.9763 2352.76,87.9763 \"/>\n",
       "<polyline clip-path=\"url(#clip620)\" style=\"stroke:#000000; stroke-linecap:round; stroke-linejoin:round; stroke-width:4; stroke-opacity:1; fill:none\" points=\"186.274,1486.45 2352.76,1486.45 \"/>\n",
       "<polyline clip-path=\"url(#clip620)\" style=\"stroke:#000000; stroke-linecap:round; stroke-linejoin:round; stroke-width:4; stroke-opacity:1; fill:none\" points=\"608.269,1486.45 608.269,1467.55 \"/>\n",
       "<polyline clip-path=\"url(#clip620)\" style=\"stroke:#000000; stroke-linecap:round; stroke-linejoin:round; stroke-width:4; stroke-opacity:1; fill:none\" points=\"1089.18,1486.45 1089.18,1467.55 \"/>\n",
       "<polyline clip-path=\"url(#clip620)\" style=\"stroke:#000000; stroke-linecap:round; stroke-linejoin:round; stroke-width:4; stroke-opacity:1; fill:none\" points=\"1570.08,1486.45 1570.08,1467.55 \"/>\n",
       "<polyline clip-path=\"url(#clip620)\" style=\"stroke:#000000; stroke-linecap:round; stroke-linejoin:round; stroke-width:4; stroke-opacity:1; fill:none\" points=\"2050.99,1486.45 2050.99,1467.55 \"/>\n",
       "<path clip-path=\"url(#clip620)\" d=\"M586.151 1517.37 Q582.54 1517.37 580.711 1520.93 Q578.906 1524.47 578.906 1531.6 Q578.906 1538.71 580.711 1542.27 Q582.54 1545.82 586.151 1545.82 Q589.785 1545.82 591.591 1542.27 Q593.42 1538.71 593.42 1531.6 Q593.42 1524.47 591.591 1520.93 Q589.785 1517.37 586.151 1517.37 M586.151 1513.66 Q591.961 1513.66 595.017 1518.27 Q598.096 1522.85 598.096 1531.6 Q598.096 1540.33 595.017 1544.94 Q591.961 1549.52 586.151 1549.52 Q580.341 1549.52 577.262 1544.94 Q574.207 1540.33 574.207 1531.6 Q574.207 1522.85 577.262 1518.27 Q580.341 1513.66 586.151 1513.66 Z\" fill=\"#000000\" fill-rule=\"nonzero\" fill-opacity=\"1\" /><path clip-path=\"url(#clip620)\" d=\"M606.313 1542.97 L611.197 1542.97 L611.197 1548.85 L606.313 1548.85 L606.313 1542.97 Z\" fill=\"#000000\" fill-rule=\"nonzero\" fill-opacity=\"1\" /><path clip-path=\"url(#clip620)\" d=\"M621.429 1514.29 L639.785 1514.29 L639.785 1518.22 L625.711 1518.22 L625.711 1526.7 Q626.73 1526.35 627.748 1526.19 Q628.767 1526 629.785 1526 Q635.572 1526 638.952 1529.17 Q642.331 1532.34 642.331 1537.76 Q642.331 1543.34 638.859 1546.44 Q635.387 1549.52 629.068 1549.52 Q626.892 1549.52 624.623 1549.15 Q622.378 1548.78 619.97 1548.04 L619.97 1543.34 Q622.054 1544.47 624.276 1545.03 Q626.498 1545.58 628.975 1545.58 Q632.98 1545.58 635.318 1543.48 Q637.656 1541.37 637.656 1537.76 Q637.656 1534.15 635.318 1532.04 Q632.98 1529.94 628.975 1529.94 Q627.1 1529.94 625.225 1530.35 Q623.373 1530.77 621.429 1531.65 L621.429 1514.29 Z\" fill=\"#000000\" fill-rule=\"nonzero\" fill-opacity=\"1\" /><path clip-path=\"url(#clip620)\" d=\"M1056.33 1544.91 L1063.97 1544.91 L1063.97 1518.55 L1055.66 1520.21 L1055.66 1515.95 L1063.92 1514.29 L1068.6 1514.29 L1068.6 1544.91 L1076.24 1544.91 L1076.24 1548.85 L1056.33 1548.85 L1056.33 1544.91 Z\" fill=\"#000000\" fill-rule=\"nonzero\" fill-opacity=\"1\" /><path clip-path=\"url(#clip620)\" d=\"M1085.68 1542.97 L1090.56 1542.97 L1090.56 1548.85 L1085.68 1548.85 L1085.68 1542.97 Z\" fill=\"#000000\" fill-rule=\"nonzero\" fill-opacity=\"1\" /><path clip-path=\"url(#clip620)\" d=\"M1110.75 1517.37 Q1107.14 1517.37 1105.31 1520.93 Q1103.5 1524.47 1103.5 1531.6 Q1103.5 1538.71 1105.31 1542.27 Q1107.14 1545.82 1110.75 1545.82 Q1114.38 1545.82 1116.19 1542.27 Q1118.02 1538.71 1118.02 1531.6 Q1118.02 1524.47 1116.19 1520.93 Q1114.38 1517.37 1110.75 1517.37 M1110.75 1513.66 Q1116.56 1513.66 1119.61 1518.27 Q1122.69 1522.85 1122.69 1531.6 Q1122.69 1540.33 1119.61 1544.94 Q1116.56 1549.52 1110.75 1549.52 Q1104.94 1549.52 1101.86 1544.94 Q1098.8 1540.33 1098.8 1531.6 Q1098.8 1522.85 1101.86 1518.27 Q1104.94 1513.66 1110.75 1513.66 Z\" fill=\"#000000\" fill-rule=\"nonzero\" fill-opacity=\"1\" /><path clip-path=\"url(#clip620)\" d=\"M1537.73 1544.91 L1545.37 1544.91 L1545.37 1518.55 L1537.06 1520.21 L1537.06 1515.95 L1545.32 1514.29 L1550 1514.29 L1550 1544.91 L1557.64 1544.91 L1557.64 1548.85 L1537.73 1548.85 L1537.73 1544.91 Z\" fill=\"#000000\" fill-rule=\"nonzero\" fill-opacity=\"1\" /><path clip-path=\"url(#clip620)\" d=\"M1567.08 1542.97 L1571.97 1542.97 L1571.97 1548.85 L1567.08 1548.85 L1567.08 1542.97 Z\" fill=\"#000000\" fill-rule=\"nonzero\" fill-opacity=\"1\" /><path clip-path=\"url(#clip620)\" d=\"M1582.2 1514.29 L1600.56 1514.29 L1600.56 1518.22 L1586.48 1518.22 L1586.48 1526.7 Q1587.5 1526.35 1588.52 1526.19 Q1589.54 1526 1590.56 1526 Q1596.34 1526 1599.72 1529.17 Q1603.1 1532.34 1603.1 1537.76 Q1603.1 1543.34 1599.63 1546.44 Q1596.16 1549.52 1589.84 1549.52 Q1587.66 1549.52 1585.39 1549.15 Q1583.15 1548.78 1580.74 1548.04 L1580.74 1543.34 Q1582.82 1544.47 1585.05 1545.03 Q1587.27 1545.58 1589.75 1545.58 Q1593.75 1545.58 1596.09 1543.48 Q1598.43 1541.37 1598.43 1537.76 Q1598.43 1534.15 1596.09 1532.04 Q1593.75 1529.94 1589.75 1529.94 Q1587.87 1529.94 1586 1530.35 Q1584.14 1530.77 1582.2 1531.65 L1582.2 1514.29 Z\" fill=\"#000000\" fill-rule=\"nonzero\" fill-opacity=\"1\" /><path clip-path=\"url(#clip620)\" d=\"M2022.23 1544.91 L2038.55 1544.91 L2038.55 1548.85 L2016.6 1548.85 L2016.6 1544.91 Q2019.26 1542.16 2023.85 1537.53 Q2028.45 1532.88 2029.63 1531.53 Q2031.88 1529.01 2032.76 1527.27 Q2033.66 1525.51 2033.66 1523.82 Q2033.66 1521.07 2031.72 1519.33 Q2029.8 1517.6 2026.69 1517.6 Q2024.49 1517.6 2022.04 1518.36 Q2019.61 1519.13 2016.83 1520.68 L2016.83 1515.95 Q2019.66 1514.82 2022.11 1514.24 Q2024.56 1513.66 2026.6 1513.66 Q2031.97 1513.66 2035.17 1516.35 Q2038.36 1519.03 2038.36 1523.52 Q2038.36 1525.65 2037.55 1527.57 Q2036.76 1529.47 2034.66 1532.07 Q2034.08 1532.74 2030.98 1535.95 Q2027.87 1539.15 2022.23 1544.91 Z\" fill=\"#000000\" fill-rule=\"nonzero\" fill-opacity=\"1\" /><path clip-path=\"url(#clip620)\" d=\"M2048.36 1542.97 L2053.24 1542.97 L2053.24 1548.85 L2048.36 1548.85 L2048.36 1542.97 Z\" fill=\"#000000\" fill-rule=\"nonzero\" fill-opacity=\"1\" /><path clip-path=\"url(#clip620)\" d=\"M2073.43 1517.37 Q2069.82 1517.37 2067.99 1520.93 Q2066.18 1524.47 2066.18 1531.6 Q2066.18 1538.71 2067.99 1542.27 Q2069.82 1545.82 2073.43 1545.82 Q2077.06 1545.82 2078.87 1542.27 Q2080.7 1538.71 2080.7 1531.6 Q2080.7 1524.47 2078.87 1520.93 Q2077.06 1517.37 2073.43 1517.37 M2073.43 1513.66 Q2079.24 1513.66 2082.3 1518.27 Q2085.37 1522.85 2085.37 1531.6 Q2085.37 1540.33 2082.3 1544.94 Q2079.24 1549.52 2073.43 1549.52 Q2067.62 1549.52 2064.54 1544.94 Q2061.48 1540.33 2061.48 1531.6 Q2061.48 1522.85 2064.54 1518.27 Q2067.62 1513.66 2073.43 1513.66 Z\" fill=\"#000000\" fill-rule=\"nonzero\" fill-opacity=\"1\" /><polyline clip-path=\"url(#clip620)\" style=\"stroke:#000000; stroke-linecap:round; stroke-linejoin:round; stroke-width:4; stroke-opacity:1; fill:none\" points=\"186.274,1486.45 186.274,47.2441 \"/>\n",
       "<polyline clip-path=\"url(#clip620)\" style=\"stroke:#000000; stroke-linecap:round; stroke-linejoin:round; stroke-width:4; stroke-opacity:1; fill:none\" points=\"186.274,1446.04 205.172,1446.04 \"/>\n",
       "<polyline clip-path=\"url(#clip620)\" style=\"stroke:#000000; stroke-linecap:round; stroke-linejoin:round; stroke-width:4; stroke-opacity:1; fill:none\" points=\"186.274,1106.52 205.172,1106.52 \"/>\n",
       "<polyline clip-path=\"url(#clip620)\" style=\"stroke:#000000; stroke-linecap:round; stroke-linejoin:round; stroke-width:4; stroke-opacity:1; fill:none\" points=\"186.274,767.008 205.172,767.008 \"/>\n",
       "<polyline clip-path=\"url(#clip620)\" style=\"stroke:#000000; stroke-linecap:round; stroke-linejoin:round; stroke-width:4; stroke-opacity:1; fill:none\" points=\"186.274,427.492 205.172,427.492 \"/>\n",
       "<polyline clip-path=\"url(#clip620)\" style=\"stroke:#000000; stroke-linecap:round; stroke-linejoin:round; stroke-width:4; stroke-opacity:1; fill:none\" points=\"186.274,87.9763 205.172,87.9763 \"/>\n",
       "<path clip-path=\"url(#clip620)\" d=\"M62.9365 1431.84 Q59.3254 1431.84 57.4967 1435.4 Q55.6912 1438.94 55.6912 1446.07 Q55.6912 1453.18 57.4967 1456.75 Q59.3254 1460.29 62.9365 1460.29 Q66.5707 1460.29 68.3763 1456.75 Q70.205 1453.18 70.205 1446.07 Q70.205 1438.94 68.3763 1435.4 Q66.5707 1431.84 62.9365 1431.84 M62.9365 1428.13 Q68.7467 1428.13 71.8022 1432.74 Q74.8809 1437.32 74.8809 1446.07 Q74.8809 1454.8 71.8022 1459.41 Q68.7467 1463.99 62.9365 1463.99 Q57.1264 1463.99 54.0477 1459.41 Q50.9921 1454.8 50.9921 1446.07 Q50.9921 1437.32 54.0477 1432.74 Q57.1264 1428.13 62.9365 1428.13 Z\" fill=\"#000000\" fill-rule=\"nonzero\" fill-opacity=\"1\" /><path clip-path=\"url(#clip620)\" d=\"M83.0984 1457.44 L87.9827 1457.44 L87.9827 1463.32 L83.0984 1463.32 L83.0984 1457.44 Z\" fill=\"#000000\" fill-rule=\"nonzero\" fill-opacity=\"1\" /><path clip-path=\"url(#clip620)\" d=\"M108.168 1431.84 Q104.557 1431.84 102.728 1435.4 Q100.922 1438.94 100.922 1446.07 Q100.922 1453.18 102.728 1456.75 Q104.557 1460.29 108.168 1460.29 Q111.802 1460.29 113.608 1456.75 Q115.436 1453.18 115.436 1446.07 Q115.436 1438.94 113.608 1435.4 Q111.802 1431.84 108.168 1431.84 M108.168 1428.13 Q113.978 1428.13 117.033 1432.74 Q120.112 1437.32 120.112 1446.07 Q120.112 1454.8 117.033 1459.41 Q113.978 1463.99 108.168 1463.99 Q102.358 1463.99 99.2789 1459.41 Q96.2234 1454.8 96.2234 1446.07 Q96.2234 1437.32 99.2789 1432.74 Q102.358 1428.13 108.168 1428.13 Z\" fill=\"#000000\" fill-rule=\"nonzero\" fill-opacity=\"1\" /><path clip-path=\"url(#clip620)\" d=\"M138.33 1431.84 Q134.719 1431.84 132.89 1435.4 Q131.084 1438.94 131.084 1446.07 Q131.084 1453.18 132.89 1456.75 Q134.719 1460.29 138.33 1460.29 Q141.964 1460.29 143.769 1456.75 Q145.598 1453.18 145.598 1446.07 Q145.598 1438.94 143.769 1435.4 Q141.964 1431.84 138.33 1431.84 M138.33 1428.13 Q144.14 1428.13 147.195 1432.74 Q150.274 1437.32 150.274 1446.07 Q150.274 1454.8 147.195 1459.41 Q144.14 1463.99 138.33 1463.99 Q132.519 1463.99 129.441 1459.41 Q126.385 1454.8 126.385 1446.07 Q126.385 1437.32 129.441 1432.74 Q132.519 1428.13 138.33 1428.13 Z\" fill=\"#000000\" fill-rule=\"nonzero\" fill-opacity=\"1\" /><path clip-path=\"url(#clip620)\" d=\"M63.9319 1092.32 Q60.3208 1092.32 58.4921 1095.89 Q56.6865 1099.43 56.6865 1106.56 Q56.6865 1113.66 58.4921 1117.23 Q60.3208 1120.77 63.9319 1120.77 Q67.5661 1120.77 69.3717 1117.23 Q71.2004 1113.66 71.2004 1106.56 Q71.2004 1099.43 69.3717 1095.89 Q67.5661 1092.32 63.9319 1092.32 M63.9319 1088.62 Q69.742 1088.62 72.7976 1093.22 Q75.8763 1097.81 75.8763 1106.56 Q75.8763 1115.28 72.7976 1119.89 Q69.742 1124.47 63.9319 1124.47 Q58.1217 1124.47 55.043 1119.89 Q51.9875 1115.28 51.9875 1106.56 Q51.9875 1097.81 55.043 1093.22 Q58.1217 1088.62 63.9319 1088.62 Z\" fill=\"#000000\" fill-rule=\"nonzero\" fill-opacity=\"1\" /><path clip-path=\"url(#clip620)\" d=\"M84.0938 1117.92 L88.978 1117.92 L88.978 1123.8 L84.0938 1123.8 L84.0938 1117.92 Z\" fill=\"#000000\" fill-rule=\"nonzero\" fill-opacity=\"1\" /><path clip-path=\"url(#clip620)\" d=\"M103.191 1119.87 L119.51 1119.87 L119.51 1123.8 L97.566 1123.8 L97.566 1119.87 Q100.228 1117.11 104.811 1112.48 Q109.418 1107.83 110.598 1106.49 Q112.844 1103.97 113.723 1102.23 Q114.626 1100.47 114.626 1098.78 Q114.626 1096.03 112.682 1094.29 Q110.76 1092.55 107.658 1092.55 Q105.459 1092.55 103.006 1093.32 Q100.575 1094.08 97.7974 1095.63 L97.7974 1090.91 Q100.621 1089.78 103.075 1089.2 Q105.529 1088.62 107.566 1088.62 Q112.936 1088.62 116.131 1091.3 Q119.325 1093.99 119.325 1098.48 Q119.325 1100.61 118.515 1102.53 Q117.728 1104.43 115.621 1107.02 Q115.043 1107.69 111.941 1110.91 Q108.839 1114.1 103.191 1119.87 Z\" fill=\"#000000\" fill-rule=\"nonzero\" fill-opacity=\"1\" /><path clip-path=\"url(#clip620)\" d=\"M129.371 1089.24 L147.728 1089.24 L147.728 1093.18 L133.654 1093.18 L133.654 1101.65 Q134.672 1101.3 135.691 1101.14 Q136.709 1100.96 137.728 1100.96 Q143.515 1100.96 146.894 1104.13 Q150.274 1107.3 150.274 1112.72 Q150.274 1118.29 146.802 1121.4 Q143.33 1124.47 137.01 1124.47 Q134.834 1124.47 132.566 1124.1 Q130.32 1123.73 127.913 1122.99 L127.913 1118.29 Q129.996 1119.43 132.219 1119.98 Q134.441 1120.54 136.918 1120.54 Q140.922 1120.54 143.26 1118.43 Q145.598 1116.33 145.598 1112.72 Q145.598 1109.1 143.26 1107 Q140.922 1104.89 136.918 1104.89 Q135.043 1104.89 133.168 1105.31 Q131.316 1105.72 129.371 1106.6 L129.371 1089.24 Z\" fill=\"#000000\" fill-rule=\"nonzero\" fill-opacity=\"1\" /><path clip-path=\"url(#clip620)\" d=\"M62.9365 752.806 Q59.3254 752.806 57.4967 756.371 Q55.6912 759.913 55.6912 767.042 Q55.6912 774.149 57.4967 777.714 Q59.3254 781.255 62.9365 781.255 Q66.5707 781.255 68.3763 777.714 Q70.205 774.149 70.205 767.042 Q70.205 759.913 68.3763 756.371 Q66.5707 752.806 62.9365 752.806 M62.9365 749.103 Q68.7467 749.103 71.8022 753.709 Q74.8809 758.293 74.8809 767.042 Q74.8809 775.769 71.8022 780.376 Q68.7467 784.959 62.9365 784.959 Q57.1264 784.959 54.0477 780.376 Q50.9921 775.769 50.9921 767.042 Q50.9921 758.293 54.0477 753.709 Q57.1264 749.103 62.9365 749.103 Z\" fill=\"#000000\" fill-rule=\"nonzero\" fill-opacity=\"1\" /><path clip-path=\"url(#clip620)\" d=\"M83.0984 778.408 L87.9827 778.408 L87.9827 784.288 L83.0984 784.288 L83.0984 778.408 Z\" fill=\"#000000\" fill-rule=\"nonzero\" fill-opacity=\"1\" /><path clip-path=\"url(#clip620)\" d=\"M98.2141 749.728 L116.57 749.728 L116.57 753.663 L102.496 753.663 L102.496 762.135 Q103.515 761.788 104.534 761.626 Q105.552 761.441 106.571 761.441 Q112.358 761.441 115.737 764.612 Q119.117 767.783 119.117 773.2 Q119.117 778.779 115.645 781.88 Q112.172 784.959 105.853 784.959 Q103.677 784.959 101.409 784.589 Q99.1632 784.218 96.7558 783.478 L96.7558 778.779 Q98.8391 779.913 101.061 780.468 Q103.284 781.024 105.76 781.024 Q109.765 781.024 112.103 778.917 Q114.441 776.811 114.441 773.2 Q114.441 769.589 112.103 767.482 Q109.765 765.376 105.76 765.376 Q103.885 765.376 102.01 765.792 Q100.159 766.209 98.2141 767.089 L98.2141 749.728 Z\" fill=\"#000000\" fill-rule=\"nonzero\" fill-opacity=\"1\" /><path clip-path=\"url(#clip620)\" d=\"M138.33 752.806 Q134.719 752.806 132.89 756.371 Q131.084 759.913 131.084 767.042 Q131.084 774.149 132.89 777.714 Q134.719 781.255 138.33 781.255 Q141.964 781.255 143.769 777.714 Q145.598 774.149 145.598 767.042 Q145.598 759.913 143.769 756.371 Q141.964 752.806 138.33 752.806 M138.33 749.103 Q144.14 749.103 147.195 753.709 Q150.274 758.293 150.274 767.042 Q150.274 775.769 147.195 780.376 Q144.14 784.959 138.33 784.959 Q132.519 784.959 129.441 780.376 Q126.385 775.769 126.385 767.042 Q126.385 758.293 129.441 753.709 Q132.519 749.103 138.33 749.103 Z\" fill=\"#000000\" fill-rule=\"nonzero\" fill-opacity=\"1\" /><path clip-path=\"url(#clip620)\" d=\"M63.9319 413.291 Q60.3208 413.291 58.4921 416.855 Q56.6865 420.397 56.6865 427.527 Q56.6865 434.633 58.4921 438.198 Q60.3208 441.74 63.9319 441.74 Q67.5661 441.74 69.3717 438.198 Q71.2004 434.633 71.2004 427.527 Q71.2004 420.397 69.3717 416.855 Q67.5661 413.291 63.9319 413.291 M63.9319 409.587 Q69.742 409.587 72.7976 414.193 Q75.8763 418.777 75.8763 427.527 Q75.8763 436.254 72.7976 440.86 Q69.742 445.443 63.9319 445.443 Q58.1217 445.443 55.043 440.86 Q51.9875 436.254 51.9875 427.527 Q51.9875 418.777 55.043 414.193 Q58.1217 409.587 63.9319 409.587 Z\" fill=\"#000000\" fill-rule=\"nonzero\" fill-opacity=\"1\" /><path clip-path=\"url(#clip620)\" d=\"M84.0938 438.892 L88.978 438.892 L88.978 444.772 L84.0938 444.772 L84.0938 438.892 Z\" fill=\"#000000\" fill-rule=\"nonzero\" fill-opacity=\"1\" /><path clip-path=\"url(#clip620)\" d=\"M97.9826 410.212 L120.205 410.212 L120.205 412.203 L107.658 444.772 L102.774 444.772 L114.58 414.147 L97.9826 414.147 L97.9826 410.212 Z\" fill=\"#000000\" fill-rule=\"nonzero\" fill-opacity=\"1\" /><path clip-path=\"url(#clip620)\" d=\"M129.371 410.212 L147.728 410.212 L147.728 414.147 L133.654 414.147 L133.654 422.619 Q134.672 422.272 135.691 422.11 Q136.709 421.925 137.728 421.925 Q143.515 421.925 146.894 425.096 Q150.274 428.267 150.274 433.684 Q150.274 439.263 146.802 442.365 Q143.33 445.443 137.01 445.443 Q134.834 445.443 132.566 445.073 Q130.32 444.703 127.913 443.962 L127.913 439.263 Q129.996 440.397 132.219 440.953 Q134.441 441.508 136.918 441.508 Q140.922 441.508 143.26 439.402 Q145.598 437.295 145.598 433.684 Q145.598 430.073 143.26 427.967 Q140.922 425.86 136.918 425.86 Q135.043 425.86 133.168 426.277 Q131.316 426.693 129.371 427.573 L129.371 410.212 Z\" fill=\"#000000\" fill-rule=\"nonzero\" fill-opacity=\"1\" /><path clip-path=\"url(#clip620)\" d=\"M53.7467 101.321 L61.3856 101.321 L61.3856 74.9555 L53.0754 76.6222 L53.0754 72.3629 L61.3393 70.6963 L66.0152 70.6963 L66.0152 101.321 L73.654 101.321 L73.654 105.256 L53.7467 105.256 L53.7467 101.321 Z\" fill=\"#000000\" fill-rule=\"nonzero\" fill-opacity=\"1\" /><path clip-path=\"url(#clip620)\" d=\"M83.0984 99.3767 L87.9827 99.3767 L87.9827 105.256 L83.0984 105.256 L83.0984 99.3767 Z\" fill=\"#000000\" fill-rule=\"nonzero\" fill-opacity=\"1\" /><path clip-path=\"url(#clip620)\" d=\"M108.168 73.775 Q104.557 73.775 102.728 77.3398 Q100.922 80.8814 100.922 88.011 Q100.922 95.1174 102.728 98.6822 Q104.557 102.224 108.168 102.224 Q111.802 102.224 113.608 98.6822 Q115.436 95.1174 115.436 88.011 Q115.436 80.8814 113.608 77.3398 Q111.802 73.775 108.168 73.775 M108.168 70.0713 Q113.978 70.0713 117.033 74.6777 Q120.112 79.261 120.112 88.011 Q120.112 96.7378 117.033 101.344 Q113.978 105.928 108.168 105.928 Q102.358 105.928 99.2789 101.344 Q96.2234 96.7378 96.2234 88.011 Q96.2234 79.261 99.2789 74.6777 Q102.358 70.0713 108.168 70.0713 Z\" fill=\"#000000\" fill-rule=\"nonzero\" fill-opacity=\"1\" /><path clip-path=\"url(#clip620)\" d=\"M138.33 73.775 Q134.719 73.775 132.89 77.3398 Q131.084 80.8814 131.084 88.011 Q131.084 95.1174 132.89 98.6822 Q134.719 102.224 138.33 102.224 Q141.964 102.224 143.769 98.6822 Q145.598 95.1174 145.598 88.011 Q145.598 80.8814 143.769 77.3398 Q141.964 73.775 138.33 73.775 M138.33 70.0713 Q144.14 70.0713 147.195 74.6777 Q150.274 79.261 150.274 88.011 Q150.274 96.7378 147.195 101.344 Q144.14 105.928 138.33 105.928 Q132.519 105.928 129.441 101.344 Q126.385 96.7378 126.385 88.011 Q126.385 79.261 129.441 74.6777 Q132.519 70.0713 138.33 70.0713 Z\" fill=\"#000000\" fill-rule=\"nonzero\" fill-opacity=\"1\" /><polyline clip-path=\"url(#clip622)\" style=\"stroke:#009af9; stroke-linecap:round; stroke-linejoin:round; stroke-width:4; stroke-opacity:1; fill:none\" points=\"367.816,87.9763 608.269,857.027 848.722,1226.11 1089.18,1370.56 1329.63,1417.46 1570.08,1435.2 1810.53,1442.94 2050.99,1445.13 2291.44,1445.59 \"/>\n",
       "<polyline clip-path=\"url(#clip622)\" style=\"stroke:#e26f46; stroke-linecap:round; stroke-linejoin:round; stroke-width:4; stroke-opacity:1; fill:none\" points=\"247.59,87.9763 367.816,627.141 488.043,1019.21 608.269,1190.46 728.496,1293.75 848.722,1372.09 968.949,1404.76 1089.18,1419.2 1209.4,1426.75 1329.63,1436.18 1449.85,1442.33 1570.08,1444.09 1690.31,1444.82 1810.53,1445.41 1930.76,1445.56 2050.99,1445.61 2171.21,1445.72 \"/>\n",
       "<path clip-path=\"url(#clip620)\" d=\"M2011.46 250.738 L2280.54 250.738 L2280.54 95.2176 L2011.46 95.2176  Z\" fill=\"#ffffff\" fill-rule=\"evenodd\" fill-opacity=\"1\"/>\n",
       "<polyline clip-path=\"url(#clip620)\" style=\"stroke:#000000; stroke-linecap:round; stroke-linejoin:round; stroke-width:4; stroke-opacity:1; fill:none\" points=\"2011.46,250.738 2280.54,250.738 2280.54,95.2176 2011.46,95.2176 2011.46,250.738 \"/>\n",
       "<polyline clip-path=\"url(#clip620)\" style=\"stroke:#009af9; stroke-linecap:round; stroke-linejoin:round; stroke-width:4; stroke-opacity:1; fill:none\" points=\"2035.53,147.058 2179.97,147.058 \"/>\n",
       "<path clip-path=\"url(#clip620)\" d=\"M2217.88 166.745 Q2216.07 171.375 2214.36 172.787 Q2212.65 174.199 2209.78 174.199 L2206.38 174.199 L2206.38 170.634 L2208.88 170.634 Q2210.63 170.634 2211.61 169.8 Q2212.58 168.967 2213.76 165.865 L2214.52 163.921 L2204.04 138.412 L2208.55 138.412 L2216.65 158.689 L2224.76 138.412 L2229.27 138.412 L2217.88 166.745 Z\" fill=\"#000000\" fill-rule=\"nonzero\" fill-opacity=\"1\" /><path clip-path=\"url(#clip620)\" d=\"M2236.56 160.402 L2244.2 160.402 L2244.2 134.037 L2235.89 135.703 L2235.89 131.444 L2244.15 129.778 L2248.83 129.778 L2248.83 160.402 L2256.47 160.402 L2256.47 164.338 L2236.56 164.338 L2236.56 160.402 Z\" fill=\"#000000\" fill-rule=\"nonzero\" fill-opacity=\"1\" /><polyline clip-path=\"url(#clip620)\" style=\"stroke:#e26f46; stroke-linecap:round; stroke-linejoin:round; stroke-width:4; stroke-opacity:1; fill:none\" points=\"2035.53,198.898 2179.97,198.898 \"/>\n",
       "<path clip-path=\"url(#clip620)\" d=\"M2217.88 218.585 Q2216.07 223.215 2214.36 224.627 Q2212.65 226.039 2209.78 226.039 L2206.38 226.039 L2206.38 222.474 L2208.88 222.474 Q2210.63 222.474 2211.61 221.64 Q2212.58 220.807 2213.76 217.705 L2214.52 215.761 L2204.04 190.252 L2208.55 190.252 L2216.65 210.529 L2224.76 190.252 L2229.27 190.252 L2217.88 218.585 Z\" fill=\"#000000\" fill-rule=\"nonzero\" fill-opacity=\"1\" /><path clip-path=\"url(#clip620)\" d=\"M2239.78 212.242 L2256.1 212.242 L2256.1 216.178 L2234.15 216.178 L2234.15 212.242 Q2236.82 209.488 2241.4 204.858 Q2246 200.205 2247.19 198.863 Q2249.43 196.34 2250.31 194.604 Q2251.21 192.844 2251.21 191.155 Q2251.21 188.4 2249.27 186.664 Q2247.35 184.928 2244.25 184.928 Q2242.05 184.928 2239.59 185.692 Q2237.16 186.455 2234.38 188.006 L2234.38 183.284 Q2237.21 182.15 2239.66 181.571 Q2242.12 180.993 2244.15 180.993 Q2249.52 180.993 2252.72 183.678 Q2255.91 186.363 2255.91 190.854 Q2255.91 192.983 2255.1 194.905 Q2254.32 196.803 2252.21 199.395 Q2251.63 200.067 2248.53 203.284 Q2245.43 206.479 2239.78 212.242 Z\" fill=\"#000000\" fill-rule=\"nonzero\" fill-opacity=\"1\" /></svg>\n"
      ],
      "text/html": [
       "<?xml version=\"1.0\" encoding=\"utf-8\"?>\n",
       "<svg xmlns=\"http://www.w3.org/2000/svg\" xmlns:xlink=\"http://www.w3.org/1999/xlink\" width=\"600\" height=\"400\" viewBox=\"0 0 2400 1600\">\n",
       "<defs>\n",
       "  <clipPath id=\"clip670\">\n",
       "    <rect x=\"0\" y=\"0\" width=\"2400\" height=\"1600\"/>\n",
       "  </clipPath>\n",
       "</defs>\n",
       "<path clip-path=\"url(#clip670)\" d=\"M0 1600 L2400 1600 L2400 8.88178e-14 L0 8.88178e-14  Z\" fill=\"#ffffff\" fill-rule=\"evenodd\" fill-opacity=\"1\"/>\n",
       "<defs>\n",
       "  <clipPath id=\"clip671\">\n",
       "    <rect x=\"480\" y=\"0\" width=\"1681\" height=\"1600\"/>\n",
       "  </clipPath>\n",
       "</defs>\n",
       "<path clip-path=\"url(#clip670)\" d=\"M186.274 1486.45 L2352.76 1486.45 L2352.76 47.2441 L186.274 47.2441  Z\" fill=\"#ffffff\" fill-rule=\"evenodd\" fill-opacity=\"1\"/>\n",
       "<defs>\n",
       "  <clipPath id=\"clip672\">\n",
       "    <rect x=\"186\" y=\"47\" width=\"2167\" height=\"1440\"/>\n",
       "  </clipPath>\n",
       "</defs>\n",
       "<polyline clip-path=\"url(#clip672)\" style=\"stroke:#000000; stroke-linecap:round; stroke-linejoin:round; stroke-width:2; stroke-opacity:0.1; fill:none\" points=\"608.269,1486.45 608.269,47.2441 \"/>\n",
       "<polyline clip-path=\"url(#clip672)\" style=\"stroke:#000000; stroke-linecap:round; stroke-linejoin:round; stroke-width:2; stroke-opacity:0.1; fill:none\" points=\"1089.18,1486.45 1089.18,47.2441 \"/>\n",
       "<polyline clip-path=\"url(#clip672)\" style=\"stroke:#000000; stroke-linecap:round; stroke-linejoin:round; stroke-width:2; stroke-opacity:0.1; fill:none\" points=\"1570.08,1486.45 1570.08,47.2441 \"/>\n",
       "<polyline clip-path=\"url(#clip672)\" style=\"stroke:#000000; stroke-linecap:round; stroke-linejoin:round; stroke-width:2; stroke-opacity:0.1; fill:none\" points=\"2050.99,1486.45 2050.99,47.2441 \"/>\n",
       "<polyline clip-path=\"url(#clip672)\" style=\"stroke:#000000; stroke-linecap:round; stroke-linejoin:round; stroke-width:2; stroke-opacity:0.1; fill:none\" points=\"186.274,1446.04 2352.76,1446.04 \"/>\n",
       "<polyline clip-path=\"url(#clip672)\" style=\"stroke:#000000; stroke-linecap:round; stroke-linejoin:round; stroke-width:2; stroke-opacity:0.1; fill:none\" points=\"186.274,1106.52 2352.76,1106.52 \"/>\n",
       "<polyline clip-path=\"url(#clip672)\" style=\"stroke:#000000; stroke-linecap:round; stroke-linejoin:round; stroke-width:2; stroke-opacity:0.1; fill:none\" points=\"186.274,767.008 2352.76,767.008 \"/>\n",
       "<polyline clip-path=\"url(#clip672)\" style=\"stroke:#000000; stroke-linecap:round; stroke-linejoin:round; stroke-width:2; stroke-opacity:0.1; fill:none\" points=\"186.274,427.492 2352.76,427.492 \"/>\n",
       "<polyline clip-path=\"url(#clip672)\" style=\"stroke:#000000; stroke-linecap:round; stroke-linejoin:round; stroke-width:2; stroke-opacity:0.1; fill:none\" points=\"186.274,87.9763 2352.76,87.9763 \"/>\n",
       "<polyline clip-path=\"url(#clip670)\" style=\"stroke:#000000; stroke-linecap:round; stroke-linejoin:round; stroke-width:4; stroke-opacity:1; fill:none\" points=\"186.274,1486.45 2352.76,1486.45 \"/>\n",
       "<polyline clip-path=\"url(#clip670)\" style=\"stroke:#000000; stroke-linecap:round; stroke-linejoin:round; stroke-width:4; stroke-opacity:1; fill:none\" points=\"608.269,1486.45 608.269,1467.55 \"/>\n",
       "<polyline clip-path=\"url(#clip670)\" style=\"stroke:#000000; stroke-linecap:round; stroke-linejoin:round; stroke-width:4; stroke-opacity:1; fill:none\" points=\"1089.18,1486.45 1089.18,1467.55 \"/>\n",
       "<polyline clip-path=\"url(#clip670)\" style=\"stroke:#000000; stroke-linecap:round; stroke-linejoin:round; stroke-width:4; stroke-opacity:1; fill:none\" points=\"1570.08,1486.45 1570.08,1467.55 \"/>\n",
       "<polyline clip-path=\"url(#clip670)\" style=\"stroke:#000000; stroke-linecap:round; stroke-linejoin:round; stroke-width:4; stroke-opacity:1; fill:none\" points=\"2050.99,1486.45 2050.99,1467.55 \"/>\n",
       "<path clip-path=\"url(#clip670)\" d=\"M586.151 1517.37 Q582.54 1517.37 580.711 1520.93 Q578.906 1524.47 578.906 1531.6 Q578.906 1538.71 580.711 1542.27 Q582.54 1545.82 586.151 1545.82 Q589.785 1545.82 591.591 1542.27 Q593.42 1538.71 593.42 1531.6 Q593.42 1524.47 591.591 1520.93 Q589.785 1517.37 586.151 1517.37 M586.151 1513.66 Q591.961 1513.66 595.017 1518.27 Q598.096 1522.85 598.096 1531.6 Q598.096 1540.33 595.017 1544.94 Q591.961 1549.52 586.151 1549.52 Q580.341 1549.52 577.262 1544.94 Q574.207 1540.33 574.207 1531.6 Q574.207 1522.85 577.262 1518.27 Q580.341 1513.66 586.151 1513.66 Z\" fill=\"#000000\" fill-rule=\"nonzero\" fill-opacity=\"1\" /><path clip-path=\"url(#clip670)\" d=\"M606.313 1542.97 L611.197 1542.97 L611.197 1548.85 L606.313 1548.85 L606.313 1542.97 Z\" fill=\"#000000\" fill-rule=\"nonzero\" fill-opacity=\"1\" /><path clip-path=\"url(#clip670)\" d=\"M621.429 1514.29 L639.785 1514.29 L639.785 1518.22 L625.711 1518.22 L625.711 1526.7 Q626.73 1526.35 627.748 1526.19 Q628.767 1526 629.785 1526 Q635.572 1526 638.952 1529.17 Q642.331 1532.34 642.331 1537.76 Q642.331 1543.34 638.859 1546.44 Q635.387 1549.52 629.068 1549.52 Q626.892 1549.52 624.623 1549.15 Q622.378 1548.78 619.97 1548.04 L619.97 1543.34 Q622.054 1544.47 624.276 1545.03 Q626.498 1545.58 628.975 1545.58 Q632.98 1545.58 635.318 1543.48 Q637.656 1541.37 637.656 1537.76 Q637.656 1534.15 635.318 1532.04 Q632.98 1529.94 628.975 1529.94 Q627.1 1529.94 625.225 1530.35 Q623.373 1530.77 621.429 1531.65 L621.429 1514.29 Z\" fill=\"#000000\" fill-rule=\"nonzero\" fill-opacity=\"1\" /><path clip-path=\"url(#clip670)\" d=\"M1056.33 1544.91 L1063.97 1544.91 L1063.97 1518.55 L1055.66 1520.21 L1055.66 1515.95 L1063.92 1514.29 L1068.6 1514.29 L1068.6 1544.91 L1076.24 1544.91 L1076.24 1548.85 L1056.33 1548.85 L1056.33 1544.91 Z\" fill=\"#000000\" fill-rule=\"nonzero\" fill-opacity=\"1\" /><path clip-path=\"url(#clip670)\" d=\"M1085.68 1542.97 L1090.56 1542.97 L1090.56 1548.85 L1085.68 1548.85 L1085.68 1542.97 Z\" fill=\"#000000\" fill-rule=\"nonzero\" fill-opacity=\"1\" /><path clip-path=\"url(#clip670)\" d=\"M1110.75 1517.37 Q1107.14 1517.37 1105.31 1520.93 Q1103.5 1524.47 1103.5 1531.6 Q1103.5 1538.71 1105.31 1542.27 Q1107.14 1545.82 1110.75 1545.82 Q1114.38 1545.82 1116.19 1542.27 Q1118.02 1538.71 1118.02 1531.6 Q1118.02 1524.47 1116.19 1520.93 Q1114.38 1517.37 1110.75 1517.37 M1110.75 1513.66 Q1116.56 1513.66 1119.61 1518.27 Q1122.69 1522.85 1122.69 1531.6 Q1122.69 1540.33 1119.61 1544.94 Q1116.56 1549.52 1110.75 1549.52 Q1104.94 1549.52 1101.86 1544.94 Q1098.8 1540.33 1098.8 1531.6 Q1098.8 1522.85 1101.86 1518.27 Q1104.94 1513.66 1110.75 1513.66 Z\" fill=\"#000000\" fill-rule=\"nonzero\" fill-opacity=\"1\" /><path clip-path=\"url(#clip670)\" d=\"M1537.73 1544.91 L1545.37 1544.91 L1545.37 1518.55 L1537.06 1520.21 L1537.06 1515.95 L1545.32 1514.29 L1550 1514.29 L1550 1544.91 L1557.64 1544.91 L1557.64 1548.85 L1537.73 1548.85 L1537.73 1544.91 Z\" fill=\"#000000\" fill-rule=\"nonzero\" fill-opacity=\"1\" /><path clip-path=\"url(#clip670)\" d=\"M1567.08 1542.97 L1571.97 1542.97 L1571.97 1548.85 L1567.08 1548.85 L1567.08 1542.97 Z\" fill=\"#000000\" fill-rule=\"nonzero\" fill-opacity=\"1\" /><path clip-path=\"url(#clip670)\" d=\"M1582.2 1514.29 L1600.56 1514.29 L1600.56 1518.22 L1586.48 1518.22 L1586.48 1526.7 Q1587.5 1526.35 1588.52 1526.19 Q1589.54 1526 1590.56 1526 Q1596.34 1526 1599.72 1529.17 Q1603.1 1532.34 1603.1 1537.76 Q1603.1 1543.34 1599.63 1546.44 Q1596.16 1549.52 1589.84 1549.52 Q1587.66 1549.52 1585.39 1549.15 Q1583.15 1548.78 1580.74 1548.04 L1580.74 1543.34 Q1582.82 1544.47 1585.05 1545.03 Q1587.27 1545.58 1589.75 1545.58 Q1593.75 1545.58 1596.09 1543.48 Q1598.43 1541.37 1598.43 1537.76 Q1598.43 1534.15 1596.09 1532.04 Q1593.75 1529.94 1589.75 1529.94 Q1587.87 1529.94 1586 1530.35 Q1584.14 1530.77 1582.2 1531.65 L1582.2 1514.29 Z\" fill=\"#000000\" fill-rule=\"nonzero\" fill-opacity=\"1\" /><path clip-path=\"url(#clip670)\" d=\"M2022.23 1544.91 L2038.55 1544.91 L2038.55 1548.85 L2016.6 1548.85 L2016.6 1544.91 Q2019.26 1542.16 2023.85 1537.53 Q2028.45 1532.88 2029.63 1531.53 Q2031.88 1529.01 2032.76 1527.27 Q2033.66 1525.51 2033.66 1523.82 Q2033.66 1521.07 2031.72 1519.33 Q2029.8 1517.6 2026.69 1517.6 Q2024.49 1517.6 2022.04 1518.36 Q2019.61 1519.13 2016.83 1520.68 L2016.83 1515.95 Q2019.66 1514.82 2022.11 1514.24 Q2024.56 1513.66 2026.6 1513.66 Q2031.97 1513.66 2035.17 1516.35 Q2038.36 1519.03 2038.36 1523.52 Q2038.36 1525.65 2037.55 1527.57 Q2036.76 1529.47 2034.66 1532.07 Q2034.08 1532.74 2030.98 1535.95 Q2027.87 1539.15 2022.23 1544.91 Z\" fill=\"#000000\" fill-rule=\"nonzero\" fill-opacity=\"1\" /><path clip-path=\"url(#clip670)\" d=\"M2048.36 1542.97 L2053.24 1542.97 L2053.24 1548.85 L2048.36 1548.85 L2048.36 1542.97 Z\" fill=\"#000000\" fill-rule=\"nonzero\" fill-opacity=\"1\" /><path clip-path=\"url(#clip670)\" d=\"M2073.43 1517.37 Q2069.82 1517.37 2067.99 1520.93 Q2066.18 1524.47 2066.18 1531.6 Q2066.18 1538.71 2067.99 1542.27 Q2069.82 1545.82 2073.43 1545.82 Q2077.06 1545.82 2078.87 1542.27 Q2080.7 1538.71 2080.7 1531.6 Q2080.7 1524.47 2078.87 1520.93 Q2077.06 1517.37 2073.43 1517.37 M2073.43 1513.66 Q2079.24 1513.66 2082.3 1518.27 Q2085.37 1522.85 2085.37 1531.6 Q2085.37 1540.33 2082.3 1544.94 Q2079.24 1549.52 2073.43 1549.52 Q2067.62 1549.52 2064.54 1544.94 Q2061.48 1540.33 2061.48 1531.6 Q2061.48 1522.85 2064.54 1518.27 Q2067.62 1513.66 2073.43 1513.66 Z\" fill=\"#000000\" fill-rule=\"nonzero\" fill-opacity=\"1\" /><polyline clip-path=\"url(#clip670)\" style=\"stroke:#000000; stroke-linecap:round; stroke-linejoin:round; stroke-width:4; stroke-opacity:1; fill:none\" points=\"186.274,1486.45 186.274,47.2441 \"/>\n",
       "<polyline clip-path=\"url(#clip670)\" style=\"stroke:#000000; stroke-linecap:round; stroke-linejoin:round; stroke-width:4; stroke-opacity:1; fill:none\" points=\"186.274,1446.04 205.172,1446.04 \"/>\n",
       "<polyline clip-path=\"url(#clip670)\" style=\"stroke:#000000; stroke-linecap:round; stroke-linejoin:round; stroke-width:4; stroke-opacity:1; fill:none\" points=\"186.274,1106.52 205.172,1106.52 \"/>\n",
       "<polyline clip-path=\"url(#clip670)\" style=\"stroke:#000000; stroke-linecap:round; stroke-linejoin:round; stroke-width:4; stroke-opacity:1; fill:none\" points=\"186.274,767.008 205.172,767.008 \"/>\n",
       "<polyline clip-path=\"url(#clip670)\" style=\"stroke:#000000; stroke-linecap:round; stroke-linejoin:round; stroke-width:4; stroke-opacity:1; fill:none\" points=\"186.274,427.492 205.172,427.492 \"/>\n",
       "<polyline clip-path=\"url(#clip670)\" style=\"stroke:#000000; stroke-linecap:round; stroke-linejoin:round; stroke-width:4; stroke-opacity:1; fill:none\" points=\"186.274,87.9763 205.172,87.9763 \"/>\n",
       "<path clip-path=\"url(#clip670)\" d=\"M62.9365 1431.84 Q59.3254 1431.84 57.4967 1435.4 Q55.6912 1438.94 55.6912 1446.07 Q55.6912 1453.18 57.4967 1456.75 Q59.3254 1460.29 62.9365 1460.29 Q66.5707 1460.29 68.3763 1456.75 Q70.205 1453.18 70.205 1446.07 Q70.205 1438.94 68.3763 1435.4 Q66.5707 1431.84 62.9365 1431.84 M62.9365 1428.13 Q68.7467 1428.13 71.8022 1432.74 Q74.8809 1437.32 74.8809 1446.07 Q74.8809 1454.8 71.8022 1459.41 Q68.7467 1463.99 62.9365 1463.99 Q57.1264 1463.99 54.0477 1459.41 Q50.9921 1454.8 50.9921 1446.07 Q50.9921 1437.32 54.0477 1432.74 Q57.1264 1428.13 62.9365 1428.13 Z\" fill=\"#000000\" fill-rule=\"nonzero\" fill-opacity=\"1\" /><path clip-path=\"url(#clip670)\" d=\"M83.0984 1457.44 L87.9827 1457.44 L87.9827 1463.32 L83.0984 1463.32 L83.0984 1457.44 Z\" fill=\"#000000\" fill-rule=\"nonzero\" fill-opacity=\"1\" /><path clip-path=\"url(#clip670)\" d=\"M108.168 1431.84 Q104.557 1431.84 102.728 1435.4 Q100.922 1438.94 100.922 1446.07 Q100.922 1453.18 102.728 1456.75 Q104.557 1460.29 108.168 1460.29 Q111.802 1460.29 113.608 1456.75 Q115.436 1453.18 115.436 1446.07 Q115.436 1438.94 113.608 1435.4 Q111.802 1431.84 108.168 1431.84 M108.168 1428.13 Q113.978 1428.13 117.033 1432.74 Q120.112 1437.32 120.112 1446.07 Q120.112 1454.8 117.033 1459.41 Q113.978 1463.99 108.168 1463.99 Q102.358 1463.99 99.2789 1459.41 Q96.2234 1454.8 96.2234 1446.07 Q96.2234 1437.32 99.2789 1432.74 Q102.358 1428.13 108.168 1428.13 Z\" fill=\"#000000\" fill-rule=\"nonzero\" fill-opacity=\"1\" /><path clip-path=\"url(#clip670)\" d=\"M138.33 1431.84 Q134.719 1431.84 132.89 1435.4 Q131.084 1438.94 131.084 1446.07 Q131.084 1453.18 132.89 1456.75 Q134.719 1460.29 138.33 1460.29 Q141.964 1460.29 143.769 1456.75 Q145.598 1453.18 145.598 1446.07 Q145.598 1438.94 143.769 1435.4 Q141.964 1431.84 138.33 1431.84 M138.33 1428.13 Q144.14 1428.13 147.195 1432.74 Q150.274 1437.32 150.274 1446.07 Q150.274 1454.8 147.195 1459.41 Q144.14 1463.99 138.33 1463.99 Q132.519 1463.99 129.441 1459.41 Q126.385 1454.8 126.385 1446.07 Q126.385 1437.32 129.441 1432.74 Q132.519 1428.13 138.33 1428.13 Z\" fill=\"#000000\" fill-rule=\"nonzero\" fill-opacity=\"1\" /><path clip-path=\"url(#clip670)\" d=\"M63.9319 1092.32 Q60.3208 1092.32 58.4921 1095.89 Q56.6865 1099.43 56.6865 1106.56 Q56.6865 1113.66 58.4921 1117.23 Q60.3208 1120.77 63.9319 1120.77 Q67.5661 1120.77 69.3717 1117.23 Q71.2004 1113.66 71.2004 1106.56 Q71.2004 1099.43 69.3717 1095.89 Q67.5661 1092.32 63.9319 1092.32 M63.9319 1088.62 Q69.742 1088.62 72.7976 1093.22 Q75.8763 1097.81 75.8763 1106.56 Q75.8763 1115.28 72.7976 1119.89 Q69.742 1124.47 63.9319 1124.47 Q58.1217 1124.47 55.043 1119.89 Q51.9875 1115.28 51.9875 1106.56 Q51.9875 1097.81 55.043 1093.22 Q58.1217 1088.62 63.9319 1088.62 Z\" fill=\"#000000\" fill-rule=\"nonzero\" fill-opacity=\"1\" /><path clip-path=\"url(#clip670)\" d=\"M84.0938 1117.92 L88.978 1117.92 L88.978 1123.8 L84.0938 1123.8 L84.0938 1117.92 Z\" fill=\"#000000\" fill-rule=\"nonzero\" fill-opacity=\"1\" /><path clip-path=\"url(#clip670)\" d=\"M103.191 1119.87 L119.51 1119.87 L119.51 1123.8 L97.566 1123.8 L97.566 1119.87 Q100.228 1117.11 104.811 1112.48 Q109.418 1107.83 110.598 1106.49 Q112.844 1103.97 113.723 1102.23 Q114.626 1100.47 114.626 1098.78 Q114.626 1096.03 112.682 1094.29 Q110.76 1092.55 107.658 1092.55 Q105.459 1092.55 103.006 1093.32 Q100.575 1094.08 97.7974 1095.63 L97.7974 1090.91 Q100.621 1089.78 103.075 1089.2 Q105.529 1088.62 107.566 1088.62 Q112.936 1088.62 116.131 1091.3 Q119.325 1093.99 119.325 1098.48 Q119.325 1100.61 118.515 1102.53 Q117.728 1104.43 115.621 1107.02 Q115.043 1107.69 111.941 1110.91 Q108.839 1114.1 103.191 1119.87 Z\" fill=\"#000000\" fill-rule=\"nonzero\" fill-opacity=\"1\" /><path clip-path=\"url(#clip670)\" d=\"M129.371 1089.24 L147.728 1089.24 L147.728 1093.18 L133.654 1093.18 L133.654 1101.65 Q134.672 1101.3 135.691 1101.14 Q136.709 1100.96 137.728 1100.96 Q143.515 1100.96 146.894 1104.13 Q150.274 1107.3 150.274 1112.72 Q150.274 1118.29 146.802 1121.4 Q143.33 1124.47 137.01 1124.47 Q134.834 1124.47 132.566 1124.1 Q130.32 1123.73 127.913 1122.99 L127.913 1118.29 Q129.996 1119.43 132.219 1119.98 Q134.441 1120.54 136.918 1120.54 Q140.922 1120.54 143.26 1118.43 Q145.598 1116.33 145.598 1112.72 Q145.598 1109.1 143.26 1107 Q140.922 1104.89 136.918 1104.89 Q135.043 1104.89 133.168 1105.31 Q131.316 1105.72 129.371 1106.6 L129.371 1089.24 Z\" fill=\"#000000\" fill-rule=\"nonzero\" fill-opacity=\"1\" /><path clip-path=\"url(#clip670)\" d=\"M62.9365 752.806 Q59.3254 752.806 57.4967 756.371 Q55.6912 759.913 55.6912 767.042 Q55.6912 774.149 57.4967 777.714 Q59.3254 781.255 62.9365 781.255 Q66.5707 781.255 68.3763 777.714 Q70.205 774.149 70.205 767.042 Q70.205 759.913 68.3763 756.371 Q66.5707 752.806 62.9365 752.806 M62.9365 749.103 Q68.7467 749.103 71.8022 753.709 Q74.8809 758.293 74.8809 767.042 Q74.8809 775.769 71.8022 780.376 Q68.7467 784.959 62.9365 784.959 Q57.1264 784.959 54.0477 780.376 Q50.9921 775.769 50.9921 767.042 Q50.9921 758.293 54.0477 753.709 Q57.1264 749.103 62.9365 749.103 Z\" fill=\"#000000\" fill-rule=\"nonzero\" fill-opacity=\"1\" /><path clip-path=\"url(#clip670)\" d=\"M83.0984 778.408 L87.9827 778.408 L87.9827 784.288 L83.0984 784.288 L83.0984 778.408 Z\" fill=\"#000000\" fill-rule=\"nonzero\" fill-opacity=\"1\" /><path clip-path=\"url(#clip670)\" d=\"M98.2141 749.728 L116.57 749.728 L116.57 753.663 L102.496 753.663 L102.496 762.135 Q103.515 761.788 104.534 761.626 Q105.552 761.441 106.571 761.441 Q112.358 761.441 115.737 764.612 Q119.117 767.783 119.117 773.2 Q119.117 778.779 115.645 781.88 Q112.172 784.959 105.853 784.959 Q103.677 784.959 101.409 784.589 Q99.1632 784.218 96.7558 783.478 L96.7558 778.779 Q98.8391 779.913 101.061 780.468 Q103.284 781.024 105.76 781.024 Q109.765 781.024 112.103 778.917 Q114.441 776.811 114.441 773.2 Q114.441 769.589 112.103 767.482 Q109.765 765.376 105.76 765.376 Q103.885 765.376 102.01 765.792 Q100.159 766.209 98.2141 767.089 L98.2141 749.728 Z\" fill=\"#000000\" fill-rule=\"nonzero\" fill-opacity=\"1\" /><path clip-path=\"url(#clip670)\" d=\"M138.33 752.806 Q134.719 752.806 132.89 756.371 Q131.084 759.913 131.084 767.042 Q131.084 774.149 132.89 777.714 Q134.719 781.255 138.33 781.255 Q141.964 781.255 143.769 777.714 Q145.598 774.149 145.598 767.042 Q145.598 759.913 143.769 756.371 Q141.964 752.806 138.33 752.806 M138.33 749.103 Q144.14 749.103 147.195 753.709 Q150.274 758.293 150.274 767.042 Q150.274 775.769 147.195 780.376 Q144.14 784.959 138.33 784.959 Q132.519 784.959 129.441 780.376 Q126.385 775.769 126.385 767.042 Q126.385 758.293 129.441 753.709 Q132.519 749.103 138.33 749.103 Z\" fill=\"#000000\" fill-rule=\"nonzero\" fill-opacity=\"1\" /><path clip-path=\"url(#clip670)\" d=\"M63.9319 413.291 Q60.3208 413.291 58.4921 416.855 Q56.6865 420.397 56.6865 427.527 Q56.6865 434.633 58.4921 438.198 Q60.3208 441.74 63.9319 441.74 Q67.5661 441.74 69.3717 438.198 Q71.2004 434.633 71.2004 427.527 Q71.2004 420.397 69.3717 416.855 Q67.5661 413.291 63.9319 413.291 M63.9319 409.587 Q69.742 409.587 72.7976 414.193 Q75.8763 418.777 75.8763 427.527 Q75.8763 436.254 72.7976 440.86 Q69.742 445.443 63.9319 445.443 Q58.1217 445.443 55.043 440.86 Q51.9875 436.254 51.9875 427.527 Q51.9875 418.777 55.043 414.193 Q58.1217 409.587 63.9319 409.587 Z\" fill=\"#000000\" fill-rule=\"nonzero\" fill-opacity=\"1\" /><path clip-path=\"url(#clip670)\" d=\"M84.0938 438.892 L88.978 438.892 L88.978 444.772 L84.0938 444.772 L84.0938 438.892 Z\" fill=\"#000000\" fill-rule=\"nonzero\" fill-opacity=\"1\" /><path clip-path=\"url(#clip670)\" d=\"M97.9826 410.212 L120.205 410.212 L120.205 412.203 L107.658 444.772 L102.774 444.772 L114.58 414.147 L97.9826 414.147 L97.9826 410.212 Z\" fill=\"#000000\" fill-rule=\"nonzero\" fill-opacity=\"1\" /><path clip-path=\"url(#clip670)\" d=\"M129.371 410.212 L147.728 410.212 L147.728 414.147 L133.654 414.147 L133.654 422.619 Q134.672 422.272 135.691 422.11 Q136.709 421.925 137.728 421.925 Q143.515 421.925 146.894 425.096 Q150.274 428.267 150.274 433.684 Q150.274 439.263 146.802 442.365 Q143.33 445.443 137.01 445.443 Q134.834 445.443 132.566 445.073 Q130.32 444.703 127.913 443.962 L127.913 439.263 Q129.996 440.397 132.219 440.953 Q134.441 441.508 136.918 441.508 Q140.922 441.508 143.26 439.402 Q145.598 437.295 145.598 433.684 Q145.598 430.073 143.26 427.967 Q140.922 425.86 136.918 425.86 Q135.043 425.86 133.168 426.277 Q131.316 426.693 129.371 427.573 L129.371 410.212 Z\" fill=\"#000000\" fill-rule=\"nonzero\" fill-opacity=\"1\" /><path clip-path=\"url(#clip670)\" d=\"M53.7467 101.321 L61.3856 101.321 L61.3856 74.9555 L53.0754 76.6222 L53.0754 72.3629 L61.3393 70.6963 L66.0152 70.6963 L66.0152 101.321 L73.654 101.321 L73.654 105.256 L53.7467 105.256 L53.7467 101.321 Z\" fill=\"#000000\" fill-rule=\"nonzero\" fill-opacity=\"1\" /><path clip-path=\"url(#clip670)\" d=\"M83.0984 99.3767 L87.9827 99.3767 L87.9827 105.256 L83.0984 105.256 L83.0984 99.3767 Z\" fill=\"#000000\" fill-rule=\"nonzero\" fill-opacity=\"1\" /><path clip-path=\"url(#clip670)\" d=\"M108.168 73.775 Q104.557 73.775 102.728 77.3398 Q100.922 80.8814 100.922 88.011 Q100.922 95.1174 102.728 98.6822 Q104.557 102.224 108.168 102.224 Q111.802 102.224 113.608 98.6822 Q115.436 95.1174 115.436 88.011 Q115.436 80.8814 113.608 77.3398 Q111.802 73.775 108.168 73.775 M108.168 70.0713 Q113.978 70.0713 117.033 74.6777 Q120.112 79.261 120.112 88.011 Q120.112 96.7378 117.033 101.344 Q113.978 105.928 108.168 105.928 Q102.358 105.928 99.2789 101.344 Q96.2234 96.7378 96.2234 88.011 Q96.2234 79.261 99.2789 74.6777 Q102.358 70.0713 108.168 70.0713 Z\" fill=\"#000000\" fill-rule=\"nonzero\" fill-opacity=\"1\" /><path clip-path=\"url(#clip670)\" d=\"M138.33 73.775 Q134.719 73.775 132.89 77.3398 Q131.084 80.8814 131.084 88.011 Q131.084 95.1174 132.89 98.6822 Q134.719 102.224 138.33 102.224 Q141.964 102.224 143.769 98.6822 Q145.598 95.1174 145.598 88.011 Q145.598 80.8814 143.769 77.3398 Q141.964 73.775 138.33 73.775 M138.33 70.0713 Q144.14 70.0713 147.195 74.6777 Q150.274 79.261 150.274 88.011 Q150.274 96.7378 147.195 101.344 Q144.14 105.928 138.33 105.928 Q132.519 105.928 129.441 101.344 Q126.385 96.7378 126.385 88.011 Q126.385 79.261 129.441 74.6777 Q132.519 70.0713 138.33 70.0713 Z\" fill=\"#000000\" fill-rule=\"nonzero\" fill-opacity=\"1\" /><polyline clip-path=\"url(#clip672)\" style=\"stroke:#009af9; stroke-linecap:round; stroke-linejoin:round; stroke-width:4; stroke-opacity:1; fill:none\" points=\"367.816,87.9763 608.269,857.027 848.722,1226.11 1089.18,1370.56 1329.63,1417.46 1570.08,1435.2 1810.53,1442.94 2050.99,1445.13 2291.44,1445.59 \"/>\n",
       "<polyline clip-path=\"url(#clip672)\" style=\"stroke:#e26f46; stroke-linecap:round; stroke-linejoin:round; stroke-width:4; stroke-opacity:1; fill:none\" points=\"247.59,87.9763 367.816,627.141 488.043,1019.21 608.269,1190.46 728.496,1293.75 848.722,1372.09 968.949,1404.76 1089.18,1419.2 1209.4,1426.75 1329.63,1436.18 1449.85,1442.33 1570.08,1444.09 1690.31,1444.82 1810.53,1445.41 1930.76,1445.56 2050.99,1445.61 2171.21,1445.72 \"/>\n",
       "<path clip-path=\"url(#clip670)\" d=\"M2011.46 250.738 L2280.54 250.738 L2280.54 95.2176 L2011.46 95.2176  Z\" fill=\"#ffffff\" fill-rule=\"evenodd\" fill-opacity=\"1\"/>\n",
       "<polyline clip-path=\"url(#clip670)\" style=\"stroke:#000000; stroke-linecap:round; stroke-linejoin:round; stroke-width:4; stroke-opacity:1; fill:none\" points=\"2011.46,250.738 2280.54,250.738 2280.54,95.2176 2011.46,95.2176 2011.46,250.738 \"/>\n",
       "<polyline clip-path=\"url(#clip670)\" style=\"stroke:#009af9; stroke-linecap:round; stroke-linejoin:round; stroke-width:4; stroke-opacity:1; fill:none\" points=\"2035.53,147.058 2179.97,147.058 \"/>\n",
       "<path clip-path=\"url(#clip670)\" d=\"M2217.88 166.745 Q2216.07 171.375 2214.36 172.787 Q2212.65 174.199 2209.78 174.199 L2206.38 174.199 L2206.38 170.634 L2208.88 170.634 Q2210.63 170.634 2211.61 169.8 Q2212.58 168.967 2213.76 165.865 L2214.52 163.921 L2204.04 138.412 L2208.55 138.412 L2216.65 158.689 L2224.76 138.412 L2229.27 138.412 L2217.88 166.745 Z\" fill=\"#000000\" fill-rule=\"nonzero\" fill-opacity=\"1\" /><path clip-path=\"url(#clip670)\" d=\"M2236.56 160.402 L2244.2 160.402 L2244.2 134.037 L2235.89 135.703 L2235.89 131.444 L2244.15 129.778 L2248.83 129.778 L2248.83 160.402 L2256.47 160.402 L2256.47 164.338 L2236.56 164.338 L2236.56 160.402 Z\" fill=\"#000000\" fill-rule=\"nonzero\" fill-opacity=\"1\" /><polyline clip-path=\"url(#clip670)\" style=\"stroke:#e26f46; stroke-linecap:round; stroke-linejoin:round; stroke-width:4; stroke-opacity:1; fill:none\" points=\"2035.53,198.898 2179.97,198.898 \"/>\n",
       "<path clip-path=\"url(#clip670)\" d=\"M2217.88 218.585 Q2216.07 223.215 2214.36 224.627 Q2212.65 226.039 2209.78 226.039 L2206.38 226.039 L2206.38 222.474 L2208.88 222.474 Q2210.63 222.474 2211.61 221.64 Q2212.58 220.807 2213.76 217.705 L2214.52 215.761 L2204.04 190.252 L2208.55 190.252 L2216.65 210.529 L2224.76 190.252 L2229.27 190.252 L2217.88 218.585 Z\" fill=\"#000000\" fill-rule=\"nonzero\" fill-opacity=\"1\" /><path clip-path=\"url(#clip670)\" d=\"M2239.78 212.242 L2256.1 212.242 L2256.1 216.178 L2234.15 216.178 L2234.15 212.242 Q2236.82 209.488 2241.4 204.858 Q2246 200.205 2247.19 198.863 Q2249.43 196.34 2250.31 194.604 Q2251.21 192.844 2251.21 191.155 Q2251.21 188.4 2249.27 186.664 Q2247.35 184.928 2244.25 184.928 Q2242.05 184.928 2239.59 185.692 Q2237.16 186.455 2234.38 188.006 L2234.38 183.284 Q2237.21 182.15 2239.66 181.571 Q2242.12 180.993 2244.15 180.993 Q2249.52 180.993 2252.72 183.678 Q2255.91 186.363 2255.91 190.854 Q2255.91 192.983 2255.1 194.905 Q2254.32 196.803 2252.21 199.395 Q2251.63 200.067 2248.53 203.284 Q2245.43 206.479 2239.78 212.242 Z\" fill=\"#000000\" fill-rule=\"nonzero\" fill-opacity=\"1\" /></svg>\n"
      ]
     },
     "metadata": {},
     "output_type": "display_data"
    }
   ],
   "source": [
    "plot(collect(1:9)/4, data[:Ic])\n",
    "plot!(collect(1:17)/8, data2[:Ic])"
   ]
  },
  {
   "cell_type": "code",
   "execution_count": null,
   "id": "4440e8e1",
   "metadata": {},
   "outputs": [],
   "source": []
  }
 ],
 "metadata": {
  "kernelspec": {
   "display_name": "Julia 1.11.5",
   "language": "julia",
   "name": "julia-1.11"
  },
  "language_info": {
   "file_extension": ".jl",
   "mimetype": "application/julia",
   "name": "julia",
   "version": "1.11.5"
  }
 },
 "nbformat": 4,
 "nbformat_minor": 5
}
