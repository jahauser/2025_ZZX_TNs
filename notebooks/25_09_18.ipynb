{
 "cells": [
  {
   "cell_type": "code",
   "execution_count": 1,
   "id": "b8d85d4d",
   "metadata": {},
   "outputs": [],
   "source": [
    "using ITensors, ITensorMPS\n",
    "using LinearAlgebra\n",
    "# using SparseArrays\n",
    "using Plots\n",
    "# using JLD2"
   ]
  },
  {
   "cell_type": "code",
   "execution_count": 2,
   "id": "31d17431",
   "metadata": {},
   "outputs": [
    {
     "data": {
      "text/plain": [
       "pure_sample (generic function with 1 method)"
      ]
     },
     "metadata": {},
     "output_type": "display_data"
    }
   ],
   "source": [
    "include(\"../src/main.jl\")\n",
    "include(\"../src/observables.jl\")\n",
    "include(\"../src/states.jl\")\n",
    "include(\"../src/doubled_measurements.jl\")\n",
    "include(\"../src/singled_measurements.jl\")\n",
    "include(\"../src/circuits.jl\")"
   ]
  },
  {
   "cell_type": "code",
   "execution_count": null,
   "id": "b6c86662",
   "metadata": {},
   "outputs": [],
   "source": [
    "function binder_EA(ψ::MPS; ref=false)\n",
    "    L = length(ψ) - ref\n",
    "    κ2 = L\n",
    "    κ4 = L\n",
    "    for i in 1:L-1\n",
    "        for j in i+1:L\n",
    "            ex = expectX(ψ, i, j)\n",
    "            κ2 += 2ex^2\n",
    "            κ4 += 2ex^4\n",
    "        end\n",
    "    end\n",
    "    κ2 /= L\n",
    "    κ4 /= L\n",
    "    return 0.5 * (3 - κ4/κ2^2)\n",
    "end"
   ]
  },
  {
   "cell_type": "code",
   "execution_count": 3,
   "id": "7b68628a",
   "metadata": {},
   "outputs": [
    {
     "ename": "UndefVarError",
     "evalue": "UndefVarError: `data` not defined in `Main`\nSuggestion: check for spelling errors or missing imports.\nHint: a global variable of this name also exists in NDTensors.",
     "output_type": "error",
     "traceback": [
      "UndefVarError: `data` not defined in `Main`\n",
      "Suggestion: check for spelling errors or missing imports.\n",
      "Hint: a global variable of this name also exists in NDTensors.\n",
      "\n",
      "Stacktrace:\n",
      " [1] top-level scope\n",
      "   @ ~/Code/2025_ZZX_TNs/notebooks/jl_notebook_cell_df34fa98e69747e1a8f8a730347b8e2f_W2sZmlsZQ==.jl:11"
     ]
    }
   ],
   "source": [
    "observables = [:pure_SR]\n",
    "L = 6\n",
    "T = 2L\n",
    "δ = 0.7\n",
    "q = 0.0\n",
    "θ = 0.0\n",
    "samples = 1\n",
    "\n",
    "for λ in [0.6]\n",
    "    means, vars = pure_sample(L, T, λ, δ, θ, θ, samples; PBC=false, ref=false, final_perfect=false, observables=observables)\n",
    "    data[(L,T,λ,δ,θ)] = (means,vars)\n",
    "end"
   ]
  },
  {
   "cell_type": "code",
   "execution_count": null,
   "id": "380c955a",
   "metadata": {},
   "outputs": [],
   "source": []
  }
 ],
 "metadata": {
  "kernelspec": {
   "display_name": "Julia 1.11.7",
   "language": "julia",
   "name": "julia-1.11"
  },
  "language_info": {
   "file_extension": ".jl",
   "mimetype": "application/julia",
   "name": "julia",
   "version": "1.11.7"
  }
 },
 "nbformat": 4,
 "nbformat_minor": 5
}
