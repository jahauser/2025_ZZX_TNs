{
 "cells": [
  {
   "cell_type": "code",
   "execution_count": 1,
   "id": "c4f398d6",
   "metadata": {},
   "outputs": [],
   "source": [
    "using ITensors, ITensorMPS\n",
    "using LinearAlgebra\n",
    "# using SparseArrays\n",
    "# using Plots\n",
    "# using JLD2"
   ]
  },
  {
   "cell_type": "code",
   "execution_count": 2,
   "id": "56016a27",
   "metadata": {},
   "outputs": [
    {
     "data": {
      "text/plain": [
       "forced_doubled_measure_with_val (generic function with 2 methods)"
      ]
     },
     "metadata": {},
     "output_type": "display_data"
    }
   ],
   "source": [
    "include(\"../src/main.jl\")\n",
    "include(\"../src/observables.jl\")\n",
    "include(\"../src/states.jl\")\n",
    "include(\"../src/doubled_measurements.jl\")"
   ]
  },
  {
   "cell_type": "code",
   "execution_count": 3,
   "id": "284955e5",
   "metadata": {},
   "outputs": [
    {
     "data": {
      "text/plain": [
       "MPS_update_data (generic function with 1 method)"
      ]
     },
     "metadata": {},
     "output_type": "display_data"
    }
   ],
   "source": [
    "function MPS_update_data(ρ::MPS, observables::Vector{Symbol}, data::Dict{Symbol,Vector{Float64}}, t::Int; ref=false)\n",
    "    if :Ic in observables\n",
    "        data[:Ic][t] = Ic2(ρ)\n",
    "    end\n",
    "    if :SR in observables\n",
    "        data[:SR][t] = SR(ρ)\n",
    "    end\n",
    "    if :κEA in observables\n",
    "        data[:κEA][t] = κEA(ρ; ref=ref)\n",
    "    end\n",
    "    if :κ2 in observables\n",
    "        data[:κ2][t] = κ2(ρ; ref=ref)\n",
    "    end\n",
    "    if :maxlinkdim in observables\n",
    "        data[:maxlinkdim][t] = maxlinkdim(ρ)\n",
    "    end\n",
    "    return data\n",
    "end"
   ]
  },
  {
   "cell_type": "code",
   "execution_count": 4,
   "id": "70fb154f",
   "metadata": {},
   "outputs": [
    {
     "data": {
      "text/plain": [
       "circuit (generic function with 1 method)"
      ]
     },
     "metadata": {},
     "output_type": "display_data"
    }
   ],
   "source": [
    "function circuit(L::Int, T::Int, λ::Float64, δ::Float64, q::Float64; observables=Symbol[], cutoff=1E-8, maxdim=200)\n",
    "    ρ, sites = ghz(L; ref=true)\n",
    "\n",
    "    data = Dict([s => zeros(Float64, 2T+2) for s in observables])\n",
    "    data = MPS_update_data(ρ, observables, data, 1; ref=true)\n",
    "    data = MPS_update_data(ρ, observables, data, 2; ref=true)\n",
    "\n",
    "    λzz = δ*(1-λ)\n",
    "    λx = δ*λ\n",
    "\n",
    "    Xn = decoherence_layer(sites, PauliX, q, 1:L, L)\n",
    "    ZZn = decoherence_layer(sites, kron(PauliZ, PauliZ), q, 1:L-1, L)\n",
    "    bell_state = bell(sites)\n",
    "\n",
    "\n",
    "    for t in 1:T\n",
    "        ρ, _, _ = doubled_measure(ρ, PauliX, λx, 1:L; ref=true)\n",
    "        ρ /= inner(bell_state, ρ)\n",
    "        truncate!(ρ; cutoff=cutoff, maxdim=maxdim)\n",
    "\n",
    "        ρ = apply(Xn, ρ)\n",
    "        ρ /= inner(bell_state, ρ)\n",
    "        truncate!(ρ; cutoff=cutoff, maxdim=maxdim)\n",
    "\n",
    "        data = MPS_update_data(ρ, observables, data, 2t+1; ref=true)\n",
    "\n",
    "        ρ, _, _ = doubled_measure(ρ, kron(PauliZ,PauliZ), λzz, 1:L-1; ref=true)\n",
    "        ρ /= inner(bell_state, ρ)\n",
    "        truncate!(ρ; cutoff=cutoff, maxdim=maxdim)\n",
    "\n",
    "        ρ = apply(ZZn, ρ)\n",
    "        ρ /= inner(bell_state, ρ)\n",
    "        truncate!(ρ; cutoff=cutoff, maxdim=maxdim)\n",
    "\n",
    "        data = MPS_update_data(ρ, observables, data, 2t+2; ref=true)\n",
    "    end\n",
    "\n",
    "    return ρ, data\n",
    "end"
   ]
  },
  {
   "cell_type": "code",
   "execution_count": 5,
   "id": "716bc6b0",
   "metadata": {},
   "outputs": [
    {
     "data": {
      "text/plain": [
       "sample (generic function with 1 method)"
      ]
     },
     "metadata": {},
     "output_type": "display_data"
    }
   ],
   "source": [
    "function sample(L::Int, T::Int, Δ::Float64, δ::Float64, q::Float64, samples::Int; observables=Symbol[], cutoff=1E-8, maxdim=200)\n",
    "    mean_data = Dict([s => zeros(Float64, 2T+2) for s in observables])\n",
    "    var_data = Dict([s => zeros(Float64, 2T+2) for s in observables])\n",
    "    for _ in 1:samples\n",
    "        _, sample_data = circuit(L, T, Δ, δ, q; observables=observables, cutoff=cutoff, maxdim=maxdim)\n",
    "        for observable in observables\n",
    "            mean_data[observable] += sample_data[observable]\n",
    "            var_data[observable] += sample_data[observable].^2\n",
    "        end\n",
    "    end\n",
    "    for observable in observables\n",
    "        mean_data[observable] /= samples\n",
    "        var_data[observable] /= samples\n",
    "    end\n",
    "    return mean_data, var_data\n",
    "end"
   ]
  },
  {
   "cell_type": "code",
   "execution_count": 7,
   "id": "7fbdead3",
   "metadata": {},
   "outputs": [
    {
     "data": {
      "text/plain": [
       "(MPS\n",
       "[1] ((dim=2|id=480|\"Qubit,Site,n=1\"), (dim=2|id=729|\"Link,l=1\"))\n",
       "[2] ((dim=2|id=595|\"Qubit,Site,n=2\"), (dim=4|id=434|\"Link,l=2\"), (dim=2|id=729|\"Link,l=1\"))\n",
       "[3] ((dim=2|id=611|\"Qubit,Site,n=3\"), (dim=8|id=118|\"Link,l=3\"), (dim=4|id=434|\"Link,l=2\"))\n",
       "[4] ((dim=2|id=710|\"Qubit,Site,n=4\"), (dim=4|id=223|\"Link,l=4\"), (dim=8|id=118|\"Link,l=3\"))\n",
       "[5] ((dim=2|id=840|\"Qubit,Site,n=5\"), (dim=2|id=920|\"Link,l=5\"), (dim=4|id=223|\"Link,l=4\"))\n",
       "[6] ((dim=2|id=890|\"Qubit,Site,n=6\"), (dim=2|id=920|\"Link,l=5\"))\n",
       ", Dict(:κEA => [2.0, 2.0, 1.00000256, 1.00000256, 1.0000000000065536, 1.0000000000065536], :SR => [1.0, 1.0, 0.9999999999999994, 0.9999999999999998, 1.0000000000000002, 0.9999999999999997], :maxlinkdim => [4.0, 4.0, 8.0, 8.0, 8.0, 8.0], :Ic => [1.0, 1.0, 0.11086058934956577, 0.11086058934956533, 0.00460924147176045, 0.0046092414717571195], :κ2 => [2.0, 2.0, 1.9999999999999996, 2.0, 2.0000000000000018, 2.0000000000000018]))"
      ]
     },
     "metadata": {},
     "output_type": "display_data"
    }
   ],
   "source": [
    "circuit(2, 2, 0.1, 0.0, 0.4; observables=[:Ic, :SR, :κEA, :κ2, :maxlinkdim])"
   ]
  },
  {
   "cell_type": "code",
   "execution_count": 9,
   "id": "b41ec3f6",
   "metadata": {},
   "outputs": [
    {
     "data": {
      "text/plain": [
       "(MPS\n",
       "[1] ((dim=2|id=809|\"Qubit,Site,n=1\"), (dim=2|id=382|\"Link,l=1\"))\n",
       "[2] ((dim=2|id=730|\"Qubit,Site,n=2\"), (dim=4|id=835|\"Link,l=2\"), (dim=2|id=382|\"Link,l=1\"))\n",
       "[3] ((dim=2|id=235|\"Qubit,Site,n=3\"), (dim=8|id=321|\"Link,l=3\"), (dim=4|id=835|\"Link,l=2\"))\n",
       "[4] ((dim=2|id=2|\"Qubit,Site,n=4\"), (dim=16|id=373|\"Link,l=4\"), (dim=8|id=321|\"Link,l=3\"))\n",
       "[5] ((dim=2|id=741|\"Qubit,Site,n=5\"), (dim=22|id=24|\"Link,l=5\"), (dim=16|id=373|\"Link,l=4\"))\n",
       "[6] ((dim=2|id=697|\"Qubit,Site,n=6\"), (dim=16|id=582|\"Link,l=6\"), (dim=22|id=24|\"Link,l=5\"))\n",
       "[7] ((dim=2|id=383|\"Qubit,Site,n=7\"), (dim=8|id=402|\"Link,l=7\"), (dim=16|id=582|\"Link,l=6\"))\n",
       "[8] ((dim=2|id=702|\"Qubit,Site,n=8\"), (dim=4|id=199|\"Link,l=8\"), (dim=8|id=402|\"Link,l=7\"))\n",
       "[9] ((dim=2|id=206|\"Qubit,Site,n=9\"), (dim=2|id=497|\"Link,l=9\"), (dim=4|id=199|\"Link,l=8\"))\n",
       "[10] ((dim=2|id=963|\"Qubit,Site,n=10\"), (dim=2|id=497|\"Link,l=9\"))\n",
       ", Dict(:κEA => [4.0, 4.0, 1.0701984227566563, 1.2422790001974904, 1.0141872487238452, 1.7011987489669262, 1.0445229298319427, 1.293450137341662, 1.001101581944872, 1.304355129683024  …  1.0053378844668748, 1.4246851018016369, 1.0128796323917286, 1.7918111353859574, 1.0533752806624694, 1.6717569815360387, 1.0198667459559991, 1.2603340708978226, 1.0008933665106903, 1.2954524634815872], :SR => [1.0, 1.0, 0.9834382706211572, 0.9797317854707791, 0.9092684366670344, 0.9479353850042846, 0.929322332167396, 0.9163414310638834, 0.6326150768305829, 0.6384243636516139  …  0.6950363497653353, 0.687974369611604, 0.5850899613172647, 0.6139599522254935, 0.7146049232030722, 0.704956186234764, 0.6348069560742503, 0.6158066321614947, 0.3662390891373025, 0.3810347214359246], :maxlinkdim => [4.0, 4.0, 8.0, 16.0, 31.0, 26.0, 31.0, 32.0, 22.0, 22.0  …  27.0, 26.0, 24.0, 22.0, 29.0, 25.0, 29.0, 28.0, 23.0, 22.0], :Ic => [1.0, 1.0, 0.8641626977831697, 0.8246316443171422, 0.4832848645577952, 0.7778536817390946, 0.6195322271657442, 0.5555016556708909, 0.13196920493002084, 0.13686872458814203  …  0.08076114553620961, 0.11122531012116132, 0.0664459300863014, 0.09842750153440727, 0.12175124226520095, 0.1215839868487858, 0.07088262504715659, 0.047747698081653356, 0.007356530007111117, 0.01617816949014128], :κ2 => [4.0, 4.0, 1.9510697901117644, 2.691554122510401, 1.4861342168732894, 3.2145514539730264, 2.0715248287992014, 3.021638568198636, 1.1305214983634206, 2.3851692057718408  …  1.444248903622551, 3.031850869281282, 1.3840403836830772, 3.1751159021814406, 2.3363259337098197, 3.0650118621310987, 2.2447855158506482, 3.151666134584784, 1.1226359436540865, 2.454849406911699]))"
      ]
     },
     "metadata": {},
     "output_type": "display_data"
    }
   ],
   "source": [
    "λ = 0.5\n",
    "δ = 0.7\n",
    "q = 0.1\n",
    "L = 4\n",
    "T = 2L+2\n",
    "\n",
    "_, data = circuit(L, T, λ, δ, q; observables=[:Ic, :SR, :κEA, :κ2, :maxlinkdim])"
   ]
  },
  {
   "cell_type": "code",
   "execution_count": 17,
   "id": "af8e9d3f",
   "metadata": {},
   "outputs": [
    {
     "data": {
      "text/plain": [
       "true"
      ]
     },
     "metadata": {},
     "output_type": "display_data"
    }
   ],
   "source": [
    "to_matrix(ρ) ≈ to_matrix(ρ2)"
   ]
  },
  {
   "cell_type": "code",
   "execution_count": 17,
   "id": "f7846a3e",
   "metadata": {},
   "outputs": [],
   "source": [
    "# data = Dict{Tuple{Int, Int, Float64, Float64, Float64},Tuple{Int,Dict}}()"
   ]
  },
  {
   "cell_type": "code",
   "execution_count": null,
   "id": "96bd534e",
   "metadata": {},
   "outputs": [],
   "source": [
    "# observables = Symbol[:κEA, :κ2, :Ic, :SR, :maxlinkdim]\n",
    "# samples = 250\n",
    "# δ = 0.7\n",
    "\n",
    "# # observables = Symbol[:maxlinkdim]\n",
    "\n",
    "# for q in [0.1]\n",
    "#     for λ in 0.0:0.1:1.0\n",
    "#         for L in 4:4:12\n",
    "#             T = 2L\n",
    "#             data[(L,T,λ,δ,q)] = (samples, sample(L, T, λ, δ, q, samples; observables=observables))\n",
    "#         end\n",
    "#     end\n",
    "# end"
   ]
  },
  {
   "cell_type": "code",
   "execution_count": null,
   "id": "d57e755a",
   "metadata": {},
   "outputs": [],
   "source": [
    "# jldsave(\"25_07_22.jld2\"; data)"
   ]
  },
  {
   "cell_type": "code",
   "execution_count": null,
   "id": "f864b659",
   "metadata": {},
   "outputs": [
    {
     "data": {
      "text/plain": [
       "Dict{Tuple{Int64, Int64, Float64, Float64, Float64}, Tuple{Int64, Dict}} with 33 entries:\n",
       "  (8, 16, 0.6, 0.7, 0.1)  => (250, Dict(:κEA=>[8.0, 8.0, 1.06778, 1.57057, 1.00…\n",
       "  (12, 24, 0.0, 0.7, 0.1) => (250, Dict(:κEA=>[12.0, 12.0, 2.84549, 9.76532, 2.…\n",
       "  (8, 16, 0.1, 0.7, 0.1)  => (250, Dict(:κEA=>[8.0, 8.0, 2.08585, 5.74068, 1.73…\n",
       "  (12, 24, 0.3, 0.7, 0.1) => (250, Dict(:κEA=>[12.0, 12.0, 1.91091, 6.15861, 1.…\n",
       "  (4, 8, 0.4, 0.7, 0.1)   => (250, Dict(:κEA=>[4.0, 4.0, 1.1432, 2.13562, 1.056…\n",
       "  (8, 16, 1.0, 0.7, 0.1)  => (250, Dict(:κEA=>[8.0, 8.0, 1.00022, 1.00022, 1.00…\n",
       "  (4, 8, 0.6, 0.7, 0.1)   => (250, Dict(:κEA=>[4.0, 4.0, 1.02905, 1.37289, 1.00…\n",
       "  (4, 8, 0.1, 0.7, 0.1)   => (250, Dict(:κEA=>[4.0, 4.0, 1.46536, 3.11431, 1.32…\n",
       "  (8, 16, 0.2, 0.7, 0.1)  => (250, Dict(:κEA=>[8.0, 8.0, 1.85823, 5.36032, 1.53…\n",
       "  (8, 16, 0.7, 0.7, 0.1)  => (250, Dict(:κEA=>[8.0, 8.0, 1.02335, 1.20661, 1.00…\n",
       "  (8, 16, 0.8, 0.7, 0.1)  => (250, Dict(:κEA=>[8.0, 8.0, 1.00653, 1.04817, 1.00…\n",
       "  (12, 24, 0.9, 0.7, 0.1) => (250, Dict(:κEA=>[12.0, 12.0, 1.00223, 1.00656, 1.…\n",
       "  (4, 8, 1.0, 0.7, 0.1)   => (250, Dict(:κEA=>[4.0, 4.0, 1.00009, 1.00009, 1.00…\n",
       "  (8, 16, 0.5, 0.7, 0.1)  => (250, Dict(:κEA=>[8.0, 8.0, 1.1638, 2.27612, 1.037…\n",
       "  (8, 16, 0.0, 0.7, 0.1)  => (250, Dict(:κEA=>[8.0, 8.0, 2.17441, 6.56275, 1.93…\n",
       "  (4, 8, 0.2, 0.7, 0.1)   => (250, Dict(:κEA=>[4.0, 4.0, 1.36781, 2.99261, 1.24…\n",
       "  (8, 16, 0.3, 0.7, 0.1)  => (250, Dict(:κEA=>[8.0, 8.0, 1.57967, 4.17383, 1.27…\n",
       "  (4, 8, 0.7, 0.7, 0.1)   => (250, Dict(:κEA=>[4.0, 4.0, 1.01001, 1.12341, 1.00…\n",
       "  (4, 8, 0.8, 0.7, 0.1)   => (250, Dict(:κEA=>[4.0, 4.0, 1.0028, 1.03075, 1.000…\n",
       "  ⋮                       => ⋮"
      ]
     },
     "metadata": {},
     "output_type": "display_data"
    }
   ],
   "source": [
    "data"
   ]
  },
  {
   "cell_type": "code",
   "execution_count": null,
   "id": "26c8d059",
   "metadata": {},
   "outputs": [],
   "source": []
  }
 ],
 "metadata": {
  "kernelspec": {
   "display_name": "Julia 1.11.6",
   "language": "julia",
   "name": "julia-1.11"
  },
  "language_info": {
   "file_extension": ".jl",
   "mimetype": "application/julia",
   "name": "julia",
   "version": "1.11.6"
  }
 },
 "nbformat": 4,
 "nbformat_minor": 5
}
