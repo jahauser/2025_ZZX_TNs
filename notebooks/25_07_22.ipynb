{
 "cells": [
  {
   "cell_type": "code",
   "execution_count": 12,
   "id": "c4f398d6",
   "metadata": {},
   "outputs": [],
   "source": [
    "using ITensors, ITensorMPS\n",
    "# using LinearAlgebra\n",
    "# using SparseArrays\n",
    "# using Plots\n",
    "# using JLD2"
   ]
  },
  {
   "cell_type": "code",
   "execution_count": 13,
   "id": "56016a27",
   "metadata": {},
   "outputs": [
    {
     "data": {
      "text/plain": [
       "forced_doubled_measure_with_val (generic function with 2 methods)"
      ]
     },
     "metadata": {},
     "output_type": "display_data"
    }
   ],
   "source": [
    "include(\"src/main.jl\")\n",
    "include(\"src/observables.jl\")\n",
    "include(\"src/states.jl\")\n",
    "include(\"src/doubled_measurements.jl\")"
   ]
  },
  {
   "cell_type": "code",
   "execution_count": 14,
   "id": "284955e5",
   "metadata": {},
   "outputs": [
    {
     "data": {
      "text/plain": [
       "MPS_update_data (generic function with 1 method)"
      ]
     },
     "metadata": {},
     "output_type": "display_data"
    }
   ],
   "source": [
    "function MPS_update_data(ρ::MPS, observables::Vector{Symbol}, data::Dict{Symbol,Vector{Float64}}, t::Int; ref=false)\n",
    "    if :Ic in observables\n",
    "        data[:Ic][t] = Ic2(ρ)\n",
    "    end\n",
    "    if :SR in observables\n",
    "        data[:SR][t] = SR(ρ)\n",
    "    end\n",
    "    if :κEA in observables\n",
    "        data[:κEA][t] = κEA(ρ; ref=ref)\n",
    "    end\n",
    "    if :κ2 in observables\n",
    "        data[:κ2][t] = κ2(ρ; ref=ref)\n",
    "    end\n",
    "    if :maxlinkdim in observables\n",
    "        data[:maxlinkdim][t] = maxlinkdim(ρ)\n",
    "    end\n",
    "    return data\n",
    "end"
   ]
  },
  {
   "cell_type": "code",
   "execution_count": 15,
   "id": "70fb154f",
   "metadata": {},
   "outputs": [
    {
     "data": {
      "text/plain": [
       "circuit (generic function with 1 method)"
      ]
     },
     "metadata": {},
     "output_type": "display_data"
    }
   ],
   "source": [
    "function circuit(L::Int, T::Int, λ::Float64, δ::Float64, q::Float64; observables=Symbol[], cutoff=1E-8, maxdim=200)\n",
    "    ρ, sites = ghz(L; ref=true)\n",
    "\n",
    "    data = Dict([s => zeros(Float64, 2T+2) for s in observables])\n",
    "    data = MPS_update_data(ρ, observables, data, 1; ref=true)\n",
    "    data = MPS_update_data(ρ, observables, data, 2; ref=true)\n",
    "\n",
    "    λzz = δ*(1-λ)\n",
    "    λx = δ*λ\n",
    "\n",
    "    Xn = decoherence_layer(sites, PauliX, q, 1:L, L)\n",
    "    ZZn = decoherence_layer(sites, kron(PauliZ, PauliZ), q, 1:L-1, L)\n",
    "    bell_state = bell(sites)\n",
    "\n",
    "\n",
    "    for t in 1:T\n",
    "        ρ, _, _ = doubled_measure(ρ, PauliX, λx, 1:L; ref=true)\n",
    "        ρ /= inner(bell_state, ρ)\n",
    "        truncate!(ρ; cutoff=cutoff, maxdim=maxdim)\n",
    "\n",
    "        ρ = apply(Xn, ρ)\n",
    "        ρ /= inner(bell_state, ρ)\n",
    "        truncate!(ρ; cutoff=cutoff, maxdim=maxdim)\n",
    "\n",
    "        data = MPS_update_data(ρ, observables, data, 2t+1; ref=true)\n",
    "\n",
    "        ρ, _, _ = doubled_measure(ρ, kron(PauliZ,PauliZ), λzz, 1:L-1; ref=true)\n",
    "        ρ /= inner(bell_state, ρ)\n",
    "        truncate!(ρ; cutoff=cutoff, maxdim=maxdim)\n",
    "\n",
    "        ρ = apply(ZZn, ρ)\n",
    "        ρ /= inner(bell_state, ρ)\n",
    "        truncate!(ρ; cutoff=cutoff, maxdim=maxdim)\n",
    "\n",
    "        data = MPS_update_data(ρ, observables, data, 2t+2; ref=true)\n",
    "    end\n",
    "\n",
    "    return ρ, data\n",
    "end"
   ]
  },
  {
   "cell_type": "code",
   "execution_count": null,
   "id": "716bc6b0",
   "metadata": {},
   "outputs": [
    {
     "data": {
      "text/plain": [
       "sample (generic function with 1 method)"
      ]
     },
     "metadata": {},
     "output_type": "display_data"
    }
   ],
   "source": [
    "function sample(L::Int, T::Int, Δ::Float64, δ::Float64, q::Float64, samples::Int; observables=Symbol[], cutoff=1E-8, maxdim=200)\n",
    "    mean_data = Dict([s => zeros(Float64, 2T+2) for s in observables])\n",
    "    var_data = Dict([s => zeros(Float64, 2T+2) for s in observables])\n",
    "    for _ in 1:samples\n",
    "        _, sample_data = circuit(L, T, Δ, δ, q; observables=observables, cutoff=cutoff, maxdim=maxdim)\n",
    "        for observable in observables\n",
    "            mean_data[observable] += sample_data[observable]\n",
    "            var_data[observable] += sample_data[observable].^2\n",
    "        end\n",
    "    end\n",
    "    for observable in observables\n",
    "        mean_data[observable] /= samples\n",
    "        var_data[observable] /= samples\n",
    "    end\n",
    "    return mean_data, var_data\n",
    "end"
   ]
  },
  {
   "cell_type": "code",
   "execution_count": 21,
   "id": "44bc87bd",
   "metadata": {},
   "outputs": [
    {
     "data": {
      "text/plain": [
       "(Dict(:κEA => [4.0, 4.0, 1.5025118175309566, 1.4803392103935515, 1.080457259368843, 1.100402140647492, 1.0168220150253966, 1.040203350035119, 1.0067346074025447, 1.0217289136989898], :SR => [1.0, 1.0, 0.999999999999982, 1.0000001699601513, 1.0000008581149509, 1.0000007283095997, 1.0000005248780854, 1.0000002110036152, 1.0000000090670131, 0.9999994583819747], :maxlinkdim => [4.0, 4.0, 8.0, 8.0, 12.3, 12.0, 15.6, 14.1, 16.0, 15.7], :Ic => [1.0, 1.0, 0.9966309188631455, 0.9952438750877171, 0.9494353379662916, 0.9469969717256232, 0.8278172724160605, 0.8041863582400589, 0.6468841210436524, 0.6633992047269764], :κ2 => [4.0, 4.0, 3.9970747263243895, 3.998306956340211, 3.995153096415753, 3.997261525219153, 3.9928945275195327, 3.9959956979884543, 3.991349993105382, 3.9953050775888976]), Dict(:κEA => [16.0, 16.0, 2.257541761820178, 2.2173193781242726, 1.1681130703800506, 1.2141638018673462, 1.0340191936855008, 1.082876687165492, 1.0135385131270045, 1.0444296159873292], :SR => [1.0, 1.0, 0.9999999999999643, 1.0000003399203725, 1.0000017162617927, 1.0000014566243207, 1.000001049760693, 1.00000042201005, 1.0000000181340272, 0.9999989167665012], :maxlinkdim => [16.0, 16.0, 64.0, 64.0, 152.1, 145.8, 243.8, 201.7, 256.0, 246.9], :Ic => [1.0, 1.0, 0.9932731884339978, 0.9905161958892925, 0.9016828172079103, 0.8970717216206039, 0.686756484694569, 0.6536934129346093, 0.42854756136110606, 0.4488915374245706], :κ2 => [16.0, 16.0, 15.976606367821194, 15.986458630887034, 15.961256198252025, 15.978103963034561, 15.943230393810321, 15.967992303327227, 15.930917467072328, 15.96247778305801]))"
      ]
     },
     "metadata": {},
     "output_type": "display_data"
    }
   ],
   "source": [
    "sample(4, 4, 0.1, 0.1, 0.1, 10; observables=[:Ic, :SR, :κEA, :κ2, :maxlinkdim])"
   ]
  },
  {
   "cell_type": "code",
   "execution_count": 17,
   "id": "f7846a3e",
   "metadata": {},
   "outputs": [],
   "source": [
    "# data = Dict{Tuple{Int, Int, Float64, Float64, Float64},Tuple{Int,Dict}}()"
   ]
  },
  {
   "cell_type": "code",
   "execution_count": null,
   "id": "96bd534e",
   "metadata": {},
   "outputs": [],
   "source": [
    "# observables = Symbol[:κEA, :κ2, :Ic, :SR, :maxlinkdim]\n",
    "# samples = 250\n",
    "# δ = 0.7\n",
    "\n",
    "# # observables = Symbol[:maxlinkdim]\n",
    "\n",
    "# for q in [0.1]\n",
    "#     for λ in 0.0:0.1:1.0\n",
    "#         for L in 4:4:12\n",
    "#             T = 2L\n",
    "#             data[(L,T,λ,δ,q)] = (samples, sample(L, T, λ, δ, q, samples; observables=observables))\n",
    "#         end\n",
    "#     end\n",
    "# end"
   ]
  },
  {
   "cell_type": "code",
   "execution_count": null,
   "id": "d57e755a",
   "metadata": {},
   "outputs": [],
   "source": [
    "# jldsave(\"25_07_22.jld2\"; data)"
   ]
  },
  {
   "cell_type": "code",
   "execution_count": null,
   "id": "f864b659",
   "metadata": {},
   "outputs": [
    {
     "data": {
      "text/plain": [
       "Dict{Tuple{Int64, Int64, Float64, Float64, Float64}, Tuple{Int64, Dict}} with 33 entries:\n",
       "  (8, 16, 0.6, 0.7, 0.1)  => (250, Dict(:κEA=>[8.0, 8.0, 1.06778, 1.57057, 1.00…\n",
       "  (12, 24, 0.0, 0.7, 0.1) => (250, Dict(:κEA=>[12.0, 12.0, 2.84549, 9.76532, 2.…\n",
       "  (8, 16, 0.1, 0.7, 0.1)  => (250, Dict(:κEA=>[8.0, 8.0, 2.08585, 5.74068, 1.73…\n",
       "  (12, 24, 0.3, 0.7, 0.1) => (250, Dict(:κEA=>[12.0, 12.0, 1.91091, 6.15861, 1.…\n",
       "  (4, 8, 0.4, 0.7, 0.1)   => (250, Dict(:κEA=>[4.0, 4.0, 1.1432, 2.13562, 1.056…\n",
       "  (8, 16, 1.0, 0.7, 0.1)  => (250, Dict(:κEA=>[8.0, 8.0, 1.00022, 1.00022, 1.00…\n",
       "  (4, 8, 0.6, 0.7, 0.1)   => (250, Dict(:κEA=>[4.0, 4.0, 1.02905, 1.37289, 1.00…\n",
       "  (4, 8, 0.1, 0.7, 0.1)   => (250, Dict(:κEA=>[4.0, 4.0, 1.46536, 3.11431, 1.32…\n",
       "  (8, 16, 0.2, 0.7, 0.1)  => (250, Dict(:κEA=>[8.0, 8.0, 1.85823, 5.36032, 1.53…\n",
       "  (8, 16, 0.7, 0.7, 0.1)  => (250, Dict(:κEA=>[8.0, 8.0, 1.02335, 1.20661, 1.00…\n",
       "  (8, 16, 0.8, 0.7, 0.1)  => (250, Dict(:κEA=>[8.0, 8.0, 1.00653, 1.04817, 1.00…\n",
       "  (12, 24, 0.9, 0.7, 0.1) => (250, Dict(:κEA=>[12.0, 12.0, 1.00223, 1.00656, 1.…\n",
       "  (4, 8, 1.0, 0.7, 0.1)   => (250, Dict(:κEA=>[4.0, 4.0, 1.00009, 1.00009, 1.00…\n",
       "  (8, 16, 0.5, 0.7, 0.1)  => (250, Dict(:κEA=>[8.0, 8.0, 1.1638, 2.27612, 1.037…\n",
       "  (8, 16, 0.0, 0.7, 0.1)  => (250, Dict(:κEA=>[8.0, 8.0, 2.17441, 6.56275, 1.93…\n",
       "  (4, 8, 0.2, 0.7, 0.1)   => (250, Dict(:κEA=>[4.0, 4.0, 1.36781, 2.99261, 1.24…\n",
       "  (8, 16, 0.3, 0.7, 0.1)  => (250, Dict(:κEA=>[8.0, 8.0, 1.57967, 4.17383, 1.27…\n",
       "  (4, 8, 0.7, 0.7, 0.1)   => (250, Dict(:κEA=>[4.0, 4.0, 1.01001, 1.12341, 1.00…\n",
       "  (4, 8, 0.8, 0.7, 0.1)   => (250, Dict(:κEA=>[4.0, 4.0, 1.0028, 1.03075, 1.000…\n",
       "  ⋮                       => ⋮"
      ]
     },
     "metadata": {},
     "output_type": "display_data"
    }
   ],
   "source": [
    "data"
   ]
  },
  {
   "cell_type": "code",
   "execution_count": null,
   "id": "26c8d059",
   "metadata": {},
   "outputs": [],
   "source": []
  }
 ],
 "metadata": {
  "kernelspec": {
   "display_name": "Julia 1.11.5",
   "language": "julia",
   "name": "julia-1.11"
  },
  "language_info": {
   "file_extension": ".jl",
   "mimetype": "application/julia",
   "name": "julia",
   "version": "1.11.5"
  }
 },
 "nbformat": 4,
 "nbformat_minor": 5
}
