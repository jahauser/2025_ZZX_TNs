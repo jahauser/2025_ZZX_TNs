{
 "cells": [
  {
   "cell_type": "code",
   "execution_count": 1,
   "id": "5e325d59",
   "metadata": {},
   "outputs": [],
   "source": [
    "using ITensors, ITensorMPS\n",
    "using LinearAlgebra\n",
    "# using SparseArrays\n",
    "using Plots\n",
    "using JLD2"
   ]
  },
  {
   "cell_type": "code",
   "execution_count": 2,
   "id": "905ed908",
   "metadata": {},
   "outputs": [
    {
     "data": {
      "text/plain": [
       "pure_sample (generic function with 1 method)"
      ]
     },
     "metadata": {},
     "output_type": "display_data"
    }
   ],
   "source": [
    "include(\"../src/main.jl\")\n",
    "include(\"../src/observables.jl\")\n",
    "include(\"../src/states.jl\")\n",
    "include(\"../src/doubled_measurements.jl\")\n",
    "include(\"../src/singled_measurements.jl\")\n",
    "include(\"../src/circuits.jl\")"
   ]
  },
  {
   "cell_type": "code",
   "execution_count": 3,
   "id": "a0217d2a",
   "metadata": {},
   "outputs": [
    {
     "data": {
      "text/plain": [
       "forced_circuit (generic function with 1 method)"
      ]
     },
     "metadata": {},
     "output_type": "display_data"
    }
   ],
   "source": [
    "function forced_circuit(L::Int, T::Int, λ::Float64, δ::Float64; ref=true, PBC=false, final_perfect=false, observables=Symbol[], cutoff=1E-8, maxdim=200)\n",
    "    ψ, sites = pure_ghz(L; ref=ref)\n",
    "\n",
    "    data = Dict([s => zeros(ComplexF64, 2T+2) for s in observables])\n",
    "    data = MPS_update_data(ψ, observables, data, 1; ref=ref, max_t=2T+2)\n",
    "    data = MPS_update_data(ψ, observables, data, 2; ref=ref, max_t=2T+2)\n",
    "\n",
    "    λzz = δ*(1-λ)\n",
    "    λx = δ*λ\n",
    "\n",
    "    for t in 1:T\n",
    "        if !PBC\n",
    "            ψ, _, _ = singled_measure(ψ, kron(PauliZ,PauliZ), λzz, 1:L-1, [false for _ in 1:L-1]; ref=ref)\n",
    "        else\n",
    "            ψ, _, _ = singled_measure(ψ, kron(PauliZ,PauliZ), λzz, 1:L; ref=ref)\n",
    "        end\n",
    "        ψ /= norm(ψ)\n",
    "        truncate!(ψ; cutoff=cutoff, maxdim=maxdim)\n",
    "\n",
    "        data = MPS_update_data(ψ, observables, data, 2t+1; ref=ref, max_t=2T+2)\n",
    "\n",
    "        ψ, _, _ = singled_measure(ψ, PauliX, λx, 1:L, [false for _ in 1:L]; ref=ref)\n",
    "        ψ /= norm(ψ)\n",
    "        truncate!(ψ; cutoff=cutoff, maxdim=maxdim)\n",
    "        # println(expect(ψ, \"X\"))\n",
    "\n",
    "        data = MPS_update_data(ψ, observables, data, 2t+2; ref=ref, max_t=2T+2)\n",
    "    end\n",
    "\n",
    "    return ψ, data\n",
    "end"
   ]
  },
  {
   "cell_type": "code",
   "execution_count": null,
   "id": "74b0faa5",
   "metadata": {},
   "outputs": [],
   "source": []
  }
 ],
 "metadata": {
  "kernelspec": {
   "display_name": "Julia 1.11.7",
   "language": "julia",
   "name": "julia-1.11"
  },
  "language_info": {
   "file_extension": ".jl",
   "mimetype": "application/julia",
   "name": "julia",
   "version": "1.11.7"
  }
 },
 "nbformat": 4,
 "nbformat_minor": 5
}
