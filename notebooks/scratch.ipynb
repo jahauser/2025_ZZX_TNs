{
 "cells": [
  {
   "cell_type": "code",
   "execution_count": 3,
   "id": "33e4b6c9",
   "metadata": {},
   "outputs": [],
   "source": [
    "using ITensors, ITensorMPS\n",
    "using ITensorCorrelators"
   ]
  },
  {
   "cell_type": "code",
   "execution_count": null,
   "id": "c52c0a24",
   "metadata": {},
   "outputs": [
    {
     "data": {
      "text/plain": [
       "210-element Vector{NTuple{4, Int64}}:\n",
       " (1, 2, 3, 4)\n",
       " (1, 2, 3, 5)\n",
       " (1, 2, 3, 6)\n",
       " (1, 2, 3, 7)\n",
       " (1, 2, 3, 8)\n",
       " (1, 2, 3, 9)\n",
       " (1, 2, 3, 10)\n",
       " (1, 2, 4, 5)\n",
       " (1, 2, 4, 6)\n",
       " (1, 2, 4, 7)\n",
       " ⋮\n",
       " (5, 7, 8, 9)\n",
       " (5, 7, 8, 10)\n",
       " (5, 7, 9, 10)\n",
       " (5, 8, 9, 10)\n",
       " (6, 7, 8, 9)\n",
       " (6, 7, 8, 10)\n",
       " (6, 7, 9, 10)\n",
       " (6, 8, 9, 10)\n",
       " (7, 8, 9, 10)"
      ]
     },
     "metadata": {},
     "output_type": "display_data"
    }
   ],
   "source": [
    "L = 10\n"
   ]
  },
  {
   "cell_type": "code",
   "execution_count": 25,
   "id": "9ec950fe",
   "metadata": {},
   "outputs": [
    {
     "data": {
      "text/plain": [
       "Dict{Tuple{Vararg{Int64}}, ComplexF64} with 91390 entries:\n",
       "  (11, 15, 35, 39) => 1.50796e-7+0.0im\n",
       "  (15, 21, 25, 31) => -7.33267e-8+0.0im\n",
       "  (16, 17, 25, 38) => -7.40449e-7+0.0im\n",
       "  (5, 7, 13, 29)   => 1.64723e-6+0.0im\n",
       "  (2, 5, 7, 18)    => 2.3699e-5+0.0im\n",
       "  (1, 18, 19, 22)  => -3.1375e-7+0.0im\n",
       "  (16, 17, 23, 27) => -2.46634e-6+0.0im\n",
       "  (6, 7, 13, 40)   => 2.47295e-7+0.0im\n",
       "  (24, 30, 33, 39) => 7.02886e-6+0.0im\n",
       "  (4, 8, 29, 36)   => -1.48754e-6+0.0im\n",
       "  (12, 15, 30, 35) => 2.47855e-7+0.0im\n",
       "  (2, 6, 25, 38)   => 3.50068e-8+0.0im\n",
       "  (1, 25, 32, 37)  => -1.11031e-6+0.0im\n",
       "  (10, 11, 24, 36) => -1.7405e-7+0.0im\n",
       "  (1, 7, 23, 28)   => -1.52385e-8+0.0im\n",
       "  (2, 13, 17, 18)  => 7.24298e-6+0.0im\n",
       "  (12, 20, 36, 39) => 1.98427e-7+0.0im\n",
       "  (4, 16, 21, 27)  => 1.00553e-6+0.0im\n",
       "  (8, 16, 21, 31)  => -3.78877e-7+0.0im\n",
       "  ⋮                => ⋮"
      ]
     },
     "metadata": {},
     "output_type": "display_data"
    }
   ],
   "source": [
    "L = 40\n",
    "ijkls = [(i,j,k,l) for i in 1:L for j in i+1:L for k in j+1:L for l in k+1:L]\n",
    "s = siteinds(\"S=1/2\", L)\n",
    "psi = random_mps(s; linkdims=200)\n",
    "\n",
    "c = correlator(psi, (\"Sz\", \"Sz\", \"Sz\", \"Sz\"), ijkls)"
   ]
  },
  {
   "cell_type": "code",
   "execution_count": 8,
   "id": "6dd1ca0c",
   "metadata": {},
   "outputs": [
    {
     "data": {
      "text/plain": [
       "4-element Vector{Tuple{Int64, Int64}}:\n",
       " (1, 1)\n",
       " (1, 2)\n",
       " (2, 1)\n",
       " (2, 2)"
      ]
     },
     "metadata": {},
     "output_type": "display_data"
    }
   ],
   "source": [
    "[(a,b) for a in 1:2 for b in 1:2]"
   ]
  },
  {
   "cell_type": "code",
   "execution_count": null,
   "id": "156e76fa",
   "metadata": {},
   "outputs": [],
   "source": []
  }
 ],
 "metadata": {
  "kernelspec": {
   "display_name": "Julia 1.11.5",
   "language": "julia",
   "name": "julia-1.11"
  },
  "language_info": {
   "file_extension": ".jl",
   "mimetype": "application/julia",
   "name": "julia",
   "version": "1.11.5"
  }
 },
 "nbformat": 4,
 "nbformat_minor": 5
}
