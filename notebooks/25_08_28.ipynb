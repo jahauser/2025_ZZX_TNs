{
 "cells": [
  {
   "cell_type": "code",
   "execution_count": 4,
   "id": "5d4d38f5",
   "metadata": {},
   "outputs": [],
   "source": [
    "using JLD2\n",
    "using ITensors\n",
    "using ITensorMPS\n",
    "using LinearAlgebra"
   ]
  },
  {
   "cell_type": "code",
   "execution_count": 5,
   "id": "380590f9",
   "metadata": {},
   "outputs": [
    {
     "data": {
      "text/plain": [
       "pure_sample (generic function with 1 method)"
      ]
     },
     "metadata": {},
     "output_type": "display_data"
    }
   ],
   "source": [
    "include(\"../src/main.jl\")\n",
    "include(\"../src/observables.jl\")\n",
    "include(\"../src/states.jl\")\n",
    "include(\"../src/singled_measurements.jl\")\n",
    "include(\"../src/doubled_measurements.jl\")\n",
    "include(\"../src/circuits.jl\")"
   ]
  },
  {
   "cell_type": "code",
   "execution_count": null,
   "id": "146421d2",
   "metadata": {},
   "outputs": [],
   "source": [
    "function MPS_neelstate(L::Int, K::Int)\n",
    "    N = L\n",
    "    sites = siteinds(\"Qubit\", N)\n",
    "    ρ = MPS(sites, i -> mod(i-1+L,2)==0 ? \"0\" : \"1\")\n",
    "    return ρ, sites\n",
    "end"
   ]
  },
  {
   "cell_type": "code",
   "execution_count": 52,
   "id": "4f99e330",
   "metadata": {},
   "outputs": [
    {
     "data": {
      "text/plain": [
       "bitstrings (generic function with 1 method)"
      ]
     },
     "metadata": {},
     "output_type": "display_data"
    }
   ],
   "source": [
    "function get_bit(n::Int, i::Int)\n",
    "    return (n >> (i-1)) & 1\n",
    "end\n",
    "\n",
    "function MPS_bitstring(n::Int, sites::Vector{Index{Int64}})\n",
    "    return MPS(sites, i -> get_bit(n,i)==0 ? \"0\" : \"1\")\n",
    "end\n",
    "\n",
    "function MPS_bitstring_dm(n1::Int, n2::Int, sites::Vector{Index{Int64}})\n",
    "    f(i) = mod(i,2) == 1 ? (get_bit(n1,i÷2+1)==0 ? \"0\" : \"1\") : (get_bit(n2,i÷2)==0 ? \"0\" : \"1\")\n",
    "    return MPS(sites, f)\n",
    "end\n",
    "\n",
    "function bitstrings(L::Int, n::Int)\n",
    "    return [k for k in 0:(2^L-1) if count_ones(k) == n]\n",
    "end"
   ]
  },
  {
   "cell_type": "code",
   "execution_count": 73,
   "id": "baff4564",
   "metadata": {},
   "outputs": [
    {
     "data": {
      "text/plain": [
       "condensate (generic function with 1 method)"
      ]
     },
     "metadata": {},
     "output_type": "display_data"
    }
   ],
   "source": [
    "function condensate(L::Int, n::Int; cutoff=1e-8, maxdim=200)\n",
    "    N = 2L\n",
    "    sites = siteinds(\"Qubit\", N)\n",
    "    product_states = bitstrings(L, n)\n",
    "    ρs = [MPS_bitstring_dm(n1, n2, sites) for n1 in product_states for n2 in product_states]\n",
    "    \n",
    "    ρ = copy(ρs[1])\n",
    "    for k in 2:length(ρs)\n",
    "        ρ += ρs[k]\n",
    "        truncate!(ρ; cutoff=cutoff, maxdim=maxdim)\n",
    "    end\n",
    "    return ρ, sites\n",
    "end"
   ]
  },
  {
   "cell_type": "code",
   "execution_count": 80,
   "id": "76a0117b",
   "metadata": {},
   "outputs": [
    {
     "data": {
      "text/plain": [
       "old_condensate (generic function with 1 method)"
      ]
     },
     "metadata": {},
     "output_type": "display_data"
    }
   ],
   "source": [
    "function old_condensate(L::Int, n::Int; cutoff=1e-8, maxdim=200)\n",
    "    N = 2L\n",
    "    sites = siteinds(\"Qubit\", N)\n",
    "    product_states = bitstrings(L, n)\n",
    "    ρs = [MPS_bitstring_dm(n1, n2, sites) for n1 in product_states for n2 in product_states]\n",
    "    \n",
    "    ρ = reduce(+, ρs)\n",
    "    return ρ, sites\n",
    "end"
   ]
  },
  {
   "cell_type": "code",
   "execution_count": 85,
   "id": "fe9dd650",
   "metadata": {},
   "outputs": [],
   "source": [
    "L = 10\n",
    "N = L÷2\n",
    "ρ, sites = condensate(L, N; cutoff=1e-8, maxdim=200);"
   ]
  },
  {
   "cell_type": "code",
   "execution_count": 86,
   "id": "4fb916fe",
   "metadata": {},
   "outputs": [
    {
     "ename": "InterruptException",
     "evalue": "InterruptException:",
     "output_type": "error",
     "traceback": [
      "InterruptException:\n",
      "\n",
      "Stacktrace:\n",
      "  [1] GenericMemory\n",
      "    @ ./boot.jl:516 [inlined]\n",
      "  [2] rehash!(h::Dict{Index{Int64}, Nothing}, newsz::Int64)\n",
      "    @ Base ./dict.jl:149\n",
      "  [3] #sizehint!#425\n",
      "    @ ./dict.jl:199 [inlined]\n",
      "  [4] sizehint!\n",
      "    @ ./dict.jl:193 [inlined]\n",
      "  [5] sizehint!\n",
      "    @ ./set.jl:172 [inlined]\n",
      "  [6] union!(s::Set{Index{Int64}}, itr::Tuple{Index{Int64}, Index{Int64}})\n",
      "    @ Base ./abstractset.jl:104\n",
      "  [7] Set\n",
      "    @ ./set.jl:47 [inlined]\n",
      "  [8] _Set\n",
      "    @ ./set.jl:59 [inlined]\n",
      "  [9] Set\n",
      "    @ ./set.jl:58 [inlined]\n",
      " [10] issetequal\n",
      "    @ ./abstractset.jl:523 [inlined]\n",
      " [11] issetequal(a::Tuple{Index{Int64}, Index{Int64}}, b::Tuple{Index{Int64}, Index{Int64}})\n",
      "    @ Base ./abstractset.jl:527\n",
      " [12] hassameinds(A::ITensor, B::Tuple{Index{Int64}, Index{Int64}})\n",
      "    @ ITensors ~/.julia/packages/ITensors/VGXV2/src/itensor.jl:1343\n",
      " [13] #permute#262\n",
      "    @ ~/.julia/packages/ITensors/VGXV2/src/tensor_operations/permutations.jl:39 [inlined]\n",
      " [14] permute(::ITensor, ::Index{Int64}, ::Index{Int64})\n",
      "    @ ITensors ~/.julia/packages/ITensors/VGXV2/src/tensor_operations/permutations.jl:38\n",
      " [15] eigen(A::ITensor, Linds::Tuple{Index{Int64}, Index{Int64}}, Rinds::Tuple{Index{Int64}, Index{Int64}}; mindim::Nothing, maxdim::Int64, cutoff::Float64, use_absolute_cutoff::Nothing, use_relative_cutoff::Nothing, ishermitian::Bool, tags::ITensors.TagSets.GenericTagSet{BitIntegers.UInt256, 4}, lefttags::Nothing, righttags::Nothing, plev::Nothing, leftplev::Nothing, rightplev::Nothing)\n",
      "    @ ITensors ~/.julia/packages/ITensors/VGXV2/src/tensor_operations/matrix_decomposition.jl:373\n",
      " [16] eigen(A::ITensor; kwargs::@Kwargs{ishermitian::Bool, tags::ITensors.TagSets.GenericTagSet{BitIntegers.UInt256, 4}, cutoff::Float64, maxdim::Int64})\n",
      "    @ ITensors ~/.julia/packages/ITensors/VGXV2/src/tensor_operations/matrix_decomposition.jl:411\n",
      " [17] +(::NDTensors.BackendSelection.Algorithm{:densitymatrix, @NamedTuple{}}, ::MPS, ::Vararg{MPS}; cutoff::Float64, kwargs::@Kwargs{})\n",
      "    @ ITensorMPS ~/.julia/packages/ITensorMPS/fCfh9/src/abstractmps.jl:1426\n",
      " [18] +\n",
      "    @ ~/.julia/packages/ITensorMPS/fCfh9/src/abstractmps.jl:1388 [inlined]\n",
      " [19] #+#331\n",
      "    @ ~/.julia/packages/ITensorMPS/fCfh9/src/abstractmps.jl:1556 [inlined]\n",
      " [20] +\n",
      "    @ ~/.julia/packages/ITensorMPS/fCfh9/src/abstractmps.jl:1555 [inlined]\n",
      " [21] macro expansion\n",
      "    @ ./reduce.jl:265 [inlined]\n",
      " [22] macro expansion\n",
      "    @ ./simdloop.jl:77 [inlined]\n",
      " [23] mapreduce_impl(f::typeof(identity), op::typeof(+), A::Vector{MPS}, ifirst::Int64, ilast::Int64, blksize::Int64)\n",
      "    @ Base ./reduce.jl:263\n",
      " [24] mapreduce_impl(f::typeof(identity), op::typeof(+), A::Vector{MPS}, ifirst::Int64, ilast::Int64, blksize::Int64) (repeats 3 times)\n",
      "    @ Base ./reduce.jl:271\n",
      " [25] mapreduce_impl(f::typeof(identity), op::typeof(+), A::Vector{MPS}, ifirst::Int64, ilast::Int64, blksize::Int64)\n",
      "    @ Base ./reduce.jl:272\n",
      " [26] mapreduce_impl(f::typeof(identity), op::typeof(+), A::Vector{MPS}, ifirst::Int64, ilast::Int64, blksize::Int64) (repeats 6 times)\n",
      "    @ Base ./reduce.jl:271\n",
      " [27] mapreduce_impl\n",
      "    @ ./reduce.jl:277 [inlined]\n",
      " [28] _mapreduce(f::typeof(identity), op::typeof(+), ::IndexLinear, A::Vector{MPS})\n",
      "    @ Base ./reduce.jl:444\n",
      " [29] _mapreduce_dim(f::Function, op::Function, ::Base._InitialValue, A::Vector{MPS}, ::Colon)\n",
      "    @ Base ./reducedim.jl:337\n",
      " [30] mapreduce\n",
      "    @ ./reducedim.jl:329 [inlined]\n",
      " [31] reduce(op::Function, A::Vector{MPS})\n",
      "    @ Base ./reducedim.jl:378\n",
      " [32] old_condensate(L::Int64, n::Int64; cutoff::Float64, maxdim::Int64)\n",
      "    @ Main ~/Code/2025_ZZX_TNs/notebooks/jl_notebook_cell_df34fa98e69747e1a8f8a730347b8e2f_X33sZmlsZQ==.jl:7\n",
      " [33] old_condensate(L::Int64, n::Int64)\n",
      "    @ Main ~/Code/2025_ZZX_TNs/notebooks/jl_notebook_cell_df34fa98e69747e1a8f8a730347b8e2f_X33sZmlsZQ==.jl:1\n",
      " [34] eval\n",
      "    @ ./boot.jl:430 [inlined]\n",
      " [35] include_string(mapexpr::typeof(REPL.softscope), mod::Module, code::String, filename::String)\n",
      "    @ Base ./loading.jl:2734\n",
      " [36] #invokelatest#2\n",
      "    @ ./essentials.jl:1055 [inlined]\n",
      " [37] invokelatest\n",
      "    @ ./essentials.jl:1052 [inlined]\n",
      " [38] (::VSCodeServer.var\"#217#218\"{VSCodeServer.NotebookRunCellArguments, String})()\n",
      "    @ VSCodeServer ~/.vscode/extensions/julialang.language-julia-1.149.2/scripts/packages/VSCodeServer/src/serve_notebook.jl:24\n",
      " [39] withpath(f::VSCodeServer.var\"#217#218\"{VSCodeServer.NotebookRunCellArguments, String}, path::String)\n",
      "    @ VSCodeServer ~/.vscode/extensions/julialang.language-julia-1.149.2/scripts/packages/VSCodeServer/src/repl.jl:276\n",
      " [40] notebook_runcell_request(conn::VSCodeServer.JSONRPC.JSONRPCEndpoint{Base.PipeEndpoint, Base.PipeEndpoint, VSCodeServer.JSON.Serializations.StandardSerialization}, params::VSCodeServer.NotebookRunCellArguments, token::VSCodeServer.CancellationTokens.CancellationToken)\n",
      "    @ VSCodeServer ~/.vscode/extensions/julialang.language-julia-1.149.2/scripts/packages/VSCodeServer/src/serve_notebook.jl:13\n",
      " [41] dispatch_msg(x::VSCodeServer.JSONRPC.JSONRPCEndpoint{Base.PipeEndpoint, Base.PipeEndpoint, VSCodeServer.JSON.Serializations.StandardSerialization}, dispatcher::VSCodeServer.JSONRPC.MsgDispatcher, msg::VSCodeServer.JSONRPC.Request)\n",
      "    @ VSCodeServer.JSONRPC ~/.vscode/extensions/julialang.language-julia-1.149.2/scripts/packages/JSONRPC/src/typed.jl:68\n",
      " [42] serve_notebook(pipename::String, debugger_pipename::String, outputchannel_logger::Base.CoreLogging.SimpleLogger; error_handler::var\"#5#10\"{String})\n",
      "    @ VSCodeServer ~/.vscode/extensions/julialang.language-julia-1.149.2/scripts/packages/VSCodeServer/src/serve_notebook.jl:147\n",
      " [43] top-level scope\n",
      "    @ ~/.vscode/extensions/julialang.language-julia-1.149.2/scripts/notebook/notebook.jl:35"
     ]
    }
   ],
   "source": [
    "L = 12\n",
    "N = L÷2\n",
    "ρ, sites = old_condensate(L, N);"
   ]
  },
  {
   "cell_type": "code",
   "execution_count": null,
   "id": "4a316e46",
   "metadata": {},
   "outputs": [],
   "source": []
  },
  {
   "cell_type": "code",
   "execution_count": null,
   "id": "a8eebd3a",
   "metadata": {},
   "outputs": [],
   "source": []
  },
  {
   "cell_type": "code",
   "execution_count": 70,
   "id": "36292283",
   "metadata": {},
   "outputs": [
    {
     "data": {
      "text/plain": [
       "25"
      ]
     },
     "metadata": {},
     "output_type": "display_data"
    }
   ],
   "source": [
    "maxlinkdim(ρ)"
   ]
  },
  {
   "cell_type": "code",
   "execution_count": 69,
   "id": "69dd47e6",
   "metadata": {},
   "outputs": [
    {
     "data": {
      "text/plain": [
       "MPS\n",
       "[1] ((dim=2|id=536|\"Qubit,Site,n=1\"), (dim=2|id=643|\"Link,l=1\"))\n",
       "[2] ((dim=2|id=939|\"Qubit,Site,n=2\"), (dim=4|id=664|\"Link,l=2\"), (dim=2|id=643|\"Link,l=1\"))\n",
       "[3] ((dim=2|id=206|\"Qubit,Site,n=3\"), (dim=6|id=873|\"Link,l=3\"), (dim=4|id=664|\"Link,l=2\"))\n",
       "[4] ((dim=2|id=910|\"Qubit,Site,n=4\"), (dim=9|id=0|\"Link,l=4\"), (dim=6|id=873|\"Link,l=3\"))\n",
       "[5] ((dim=2|id=141|\"Qubit,Site,n=5\"), (dim=12|id=905|\"Link,l=5\"), (dim=9|id=0|\"Link,l=4\"))\n",
       "[6] ((dim=2|id=173|\"Qubit,Site,n=6\"), (dim=16|id=941|\"Link,l=6\"), (dim=12|id=905|\"Link,l=5\"))\n",
       "[7] ((dim=2|id=665|\"Qubit,Site,n=7\"), (dim=20|id=142|\"Link,l=7\"), (dim=16|id=941|\"Link,l=6\"))\n",
       "[8] ((dim=2|id=298|\"Qubit,Site,n=8\"), (dim=25|id=486|\"Link,l=8\"), (dim=20|id=142|\"Link,l=7\"))\n",
       "[9] ((dim=2|id=797|\"Qubit,Site,n=9\"), (dim=20|id=178|\"Link,l=9\"), (dim=25|id=486|\"Link,l=8\"))\n",
       "[10] ((dim=2|id=71|\"Qubit,Site,n=10\"), (dim=16|id=901|\"Link,l=10\"), (dim=20|id=178|\"Link,l=9\"))\n",
       "[11] ((dim=2|id=885|\"Qubit,Site,n=11\"), (dim=12|id=679|\"Link,l=11\"), (dim=16|id=901|\"Link,l=10\"))\n",
       "[12] ((dim=2|id=181|\"Qubit,Site,n=12\"), (dim=9|id=149|\"Link,l=12\"), (dim=12|id=679|\"Link,l=11\"))\n",
       "[13] ((dim=2|id=647|\"Qubit,Site,n=13\"), (dim=6|id=358|\"Link,l=13\"), (dim=9|id=149|\"Link,l=12\"))\n",
       "[14] ((dim=2|id=456|\"Qubit,Site,n=14\"), (dim=4|id=775|\"Link,l=14\"), (dim=6|id=358|\"Link,l=13\"))\n",
       "[15] ((dim=2|id=160|\"Qubit,Site,n=15\"), (dim=2|id=294|\"Link,l=15\"), (dim=4|id=775|\"Link,l=14\"))\n",
       "[16] ((dim=2|id=171|\"Qubit,Site,n=16\"), (dim=2|id=294|\"Link,l=15\"))\n"
      ]
     },
     "metadata": {},
     "output_type": "display_data"
    }
   ],
   "source": [
    "truncate!(ρ; maxdim=200, cutoff=1e-8)"
   ]
  },
  {
   "cell_type": "code",
   "execution_count": 35,
   "id": "d2025b28",
   "metadata": {},
   "outputs": [
    {
     "data": {
      "text/plain": [
       "MPS\n",
       "[1] ((dim=2|id=623|\"Qubit,Site,n=1\"), (dim=1|id=337|\"Link,l=1\"))\n",
       "[2] ((dim=1|id=337|\"Link,l=1\"), (dim=2|id=413|\"Qubit,Site,n=2\"), (dim=1|id=655|\"Link,l=2\"))\n",
       "[3] ((dim=1|id=655|\"Link,l=2\"), (dim=2|id=780|\"Qubit,Site,n=3\"), (dim=1|id=892|\"Link,l=3\"))\n",
       "[4] ((dim=1|id=892|\"Link,l=3\"), (dim=2|id=233|\"Qubit,Site,n=4\"), (dim=1|id=386|\"Link,l=4\"))\n",
       "[5] ((dim=1|id=386|\"Link,l=4\"), (dim=2|id=216|\"Qubit,Site,n=5\"), (dim=1|id=457|\"Link,l=5\"))\n",
       "[6] ((dim=1|id=457|\"Link,l=5\"), (dim=2|id=794|\"Qubit,Site,n=6\"), (dim=1|id=226|\"Link,l=6\"))\n",
       "[7] ((dim=1|id=226|\"Link,l=6\"), (dim=2|id=963|\"Qubit,Site,n=7\"), (dim=1|id=57|\"Link,l=7\"))\n",
       "[8] ((dim=1|id=57|\"Link,l=7\"), (dim=2|id=391|\"Qubit,Site,n=8\"), (dim=1|id=613|\"Link,l=8\"))\n",
       "[9] ((dim=1|id=613|\"Link,l=8\"), (dim=2|id=678|\"Qubit,Site,n=9\"), (dim=1|id=689|\"Link,l=9\"))\n",
       "[10] ((dim=1|id=689|\"Link,l=9\"), (dim=2|id=758|\"Qubit,Site,n=10\"))\n"
      ]
     },
     "metadata": {},
     "output_type": "display_data"
    }
   ],
   "source": [
    "MPS_bitstring_dm(5, 5, sites)"
   ]
  },
  {
   "cell_type": "code",
   "execution_count": 18,
   "id": "e7902db3",
   "metadata": {},
   "outputs": [
    {
     "data": {
      "text/plain": [
       "0"
      ]
     },
     "metadata": {},
     "output_type": "display_data"
    }
   ],
   "source": [
    "get_bit(5,2)"
   ]
  },
  {
   "cell_type": "code",
   "execution_count": null,
   "id": "2df7565e",
   "metadata": {},
   "outputs": [],
   "source": []
  },
  {
   "cell_type": "code",
   "execution_count": 10,
   "id": "9a48c1b9",
   "metadata": {},
   "outputs": [
    {
     "data": {
      "text/plain": [
       "2"
      ]
     },
     "metadata": {},
     "output_type": "display_data"
    }
   ],
   "source": [
    "count_ones(3)"
   ]
  },
  {
   "cell_type": "code",
   "execution_count": 6,
   "id": "54cf6734",
   "metadata": {},
   "outputs": [
    {
     "data": {
      "text/plain": [
       "10-element Vector{Index{Int64}}:\n",
       " (dim=2|id=623|\"Qubit,Site,n=1\")\n",
       " (dim=2|id=413|\"Qubit,Site,n=2\")\n",
       " (dim=2|id=780|\"Qubit,Site,n=3\")\n",
       " (dim=2|id=233|\"Qubit,Site,n=4\")\n",
       " (dim=2|id=216|\"Qubit,Site,n=5\")\n",
       " (dim=2|id=794|\"Qubit,Site,n=6\")\n",
       " (dim=2|id=963|\"Qubit,Site,n=7\")\n",
       " (dim=2|id=391|\"Qubit,Site,n=8\")\n",
       " (dim=2|id=678|\"Qubit,Site,n=9\")\n",
       " (dim=2|id=758|\"Qubit,Site,n=10\")"
      ]
     },
     "metadata": {},
     "output_type": "display_data"
    }
   ],
   "source": [
    "sites = siteinds(\"Qubit\", 10)"
   ]
  },
  {
   "cell_type": "code",
   "execution_count": null,
   "id": "71083650",
   "metadata": {},
   "outputs": [
    {
     "ename": "ArgumentError",
     "evalue": "ArgumentError: Overload of \"state\" or \"state!\" functions not found for state name \"0000000000\" and Index tags \"Qubit,Site,n=1\"",
     "output_type": "error",
     "traceback": [
      "ArgumentError: Overload of \"state\" or \"state!\" functions not found for state name \"0000000000\" and Index tags \"Qubit,Site,n=1\"\n",
      "\n",
      "Stacktrace:\n",
      " [1] state(s::Index{Int64}, name::String; kwargs::@Kwargs{})\n",
      "   @ ITensors.SiteTypes ~/.julia/packages/ITensors/VGXV2/src/lib/SiteTypes/src/sitetype.jl:629\n",
      " [2] state\n",
      "   @ ~/.julia/packages/ITensors/VGXV2/src/lib/SiteTypes/src/sitetype.jl:595 [inlined]\n",
      " [3] #402\n",
      "   @ ./none:0 [inlined]\n",
      " [4] iterate\n",
      "   @ ./generator.jl:48 [inlined]\n",
      " [5] collect(itr::Base.Generator{UnitRange{Int64}, ITensorMPS.var\"#402#404\"{Vector{Index{Int64}}, Vector{String}}})\n",
      "   @ Base ./array.jl:791\n",
      " [6] MPS(eltype::Type{Float64}, sites::Vector{Index{Int64}}, states_::Vector{String})\n",
      "   @ ITensorMPS ~/.julia/packages/ITensorMPS/fCfh9/src/mps.jl:421\n",
      " [7] MPS\n",
      "   @ ~/.julia/packages/ITensorMPS/fCfh9/src/mps.jl:452 [inlined]\n",
      " [8] MPS(sites::Vector{Index{Int64}}, states::String)\n",
      "   @ ITensorMPS ~/.julia/packages/ITensorMPS/fCfh9/src/mps.jl:479\n",
      " [9] top-level scope\n",
      "   @ ~/Code/2025_ZZX_TNs/notebooks/jl_notebook_cell_df34fa98e69747e1a8f8a730347b8e2f_W5sZmlsZQ==.jl:1"
     ]
    }
   ],
   "source": [
    "MPS(sites,)"
   ]
  },
  {
   "cell_type": "code",
   "execution_count": null,
   "id": "31e613a0",
   "metadata": {},
   "outputs": [],
   "source": []
  }
 ],
 "metadata": {
  "kernelspec": {
   "display_name": "Julia 1.11.7",
   "language": "julia",
   "name": "julia-1.11"
  },
  "language_info": {
   "file_extension": ".jl",
   "mimetype": "application/julia",
   "name": "julia",
   "version": "1.11.7"
  }
 },
 "nbformat": 4,
 "nbformat_minor": 5
}
