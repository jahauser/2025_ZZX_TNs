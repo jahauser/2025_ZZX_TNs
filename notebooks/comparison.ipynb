{
 "cells": [
  {
   "cell_type": "code",
   "execution_count": 1,
   "id": "7e66af41",
   "metadata": {},
   "outputs": [],
   "source": [
    "using ITensors, ITensorMPS\n",
    "using LinearAlgebra\n",
    "using SparseArrays\n",
    "using Plots\n",
    "using JLD2"
   ]
  },
  {
   "cell_type": "code",
   "execution_count": 22,
   "id": "7a4d4000",
   "metadata": {},
   "outputs": [
    {
     "data": {
      "text/plain": [
       "ED_full (generic function with 1 method)"
      ]
     },
     "metadata": {},
     "output_type": "display_data"
    }
   ],
   "source": [
    "include(\"src/main.jl\")\n",
    "include(\"src/observables.jl\")\n",
    "include(\"src/states.jl\")\n",
    "include(\"src/doubled_measurements.jl\")\n",
    "include(\"src/ED.jl\")"
   ]
  },
  {
   "cell_type": "code",
   "execution_count": 23,
   "id": "bec208a7",
   "metadata": {},
   "outputs": [
    {
     "data": {
      "text/plain": [
       "MPS_update_data (generic function with 1 method)"
      ]
     },
     "metadata": {},
     "output_type": "display_data"
    }
   ],
   "source": [
    "function MPS_update_data(ρ::MPS, observables::Vector{Symbol}, data::Dict{Symbol,Vector{Float64}}, t::Int; ref=false)\n",
    "    if :Ic in observables\n",
    "        data[:Ic][t] = Ic2(ρ)\n",
    "    end\n",
    "    if :SR in observables\n",
    "        data[:SR][t] = SR(ρ)\n",
    "    end\n",
    "    if :κEA in observables\n",
    "        data[:κEA][t] = κEA(ρ; ref=ref)\n",
    "    end\n",
    "    if :κ2 in observables\n",
    "        data[:κ2][t] = κ2(ρ; ref=ref)\n",
    "    end\n",
    "    if :maxlinkdim in observables\n",
    "        data[:maxlinkdim][t] = maxlinkdim(ρ)\n",
    "    end\n",
    "    return data\n",
    "end"
   ]
  },
  {
   "cell_type": "code",
   "execution_count": 24,
   "id": "17336401",
   "metadata": {},
   "outputs": [
    {
     "data": {
      "text/plain": [
       "circuit (generic function with 1 method)"
      ]
     },
     "metadata": {},
     "output_type": "display_data"
    }
   ],
   "source": [
    "function circuit(L::Int, T::Int, λ::Float64, δ::Float64, q::Float64; observables=Symbol[], cutoff=1E-8, maxdim=200)\n",
    "    ρ, sites = ghz(L; ref=true)\n",
    "\n",
    "    data = Dict([s => zeros(Float64, 2T+2) for s in observables])\n",
    "    data = MPS_update_data(ρ, observables, data, 1; ref=true)\n",
    "    data = MPS_update_data(ρ, observables, data, 2; ref=true)\n",
    "\n",
    "    ZZ_ms = zeros(Bool, T, L-1)\n",
    "    X_ms = zeros(Bool, T, L)\n",
    "    ZZ_vals = zeros(Float64, T, L-1)\n",
    "    X_vals = zeros(Float64, T, L)\n",
    "\n",
    "    λzz = δ*(1-λ)\n",
    "    λx = δ*λ\n",
    "\n",
    "    Xn = decoherence_layer(sites, PauliX, q, 1:L, L)\n",
    "    ZZn = decoherence_layer(sites, kron(PauliZ, PauliZ), q, 1:L-1, L)\n",
    "    bell_state = bell(sites)\n",
    "\n",
    "\n",
    "    for t in 1:T\n",
    "        ρ, X_ms[t,:], X_vals[t,:] = doubled_measure(ρ, PauliX, λx, 1:L; ref=true)\n",
    "        ρ /= inner(bell_state, ρ)\n",
    "        truncate!(ρ; cutoff=cutoff, maxdim=maxdim)\n",
    "\n",
    "        ρ = apply(Xn, ρ)\n",
    "        ρ /= inner(bell_state, ρ)\n",
    "        truncate!(ρ; cutoff=cutoff, maxdim=maxdim)\n",
    "\n",
    "        data = MPS_update_data(ρ, observables, data, 2t+1; ref=true)\n",
    "\n",
    "        ρ, ZZ_ms[t,:], ZZ_vals[t,:] = doubled_measure(ρ, kron(PauliZ,PauliZ), λzz, 1:L-1; ref=true)\n",
    "        ρ /= inner(bell_state, ρ)\n",
    "        truncate!(ρ; cutoff=cutoff, maxdim=maxdim)\n",
    "\n",
    "        ρ = apply(ZZn, ρ)\n",
    "        ρ /= inner(bell_state, ρ)\n",
    "        truncate!(ρ; cutoff=cutoff, maxdim=maxdim)\n",
    "\n",
    "        data = MPS_update_data(ρ, observables, data, 2t+2; ref=true)\n",
    "    end\n",
    "\n",
    "    return ρ, data, (X_ms, ZZ_ms), (X_vals, ZZ_vals)\n",
    "end"
   ]
  },
  {
   "cell_type": "code",
   "execution_count": 68,
   "id": "4054b696",
   "metadata": {},
   "outputs": [
    {
     "data": {
      "text/plain": [
       "(MPS\n",
       "[1] ((dim=2|id=480|\"Qubit,Site,n=1\"), (dim=2|id=599|\"Link,l=1\"))\n",
       "[2] ((dim=2|id=943|\"Qubit,Site,n=2\"), (dim=4|id=234|\"Link,l=2\"), (dim=2|id=599|\"Link,l=1\"))\n",
       "[3] ((dim=2|id=278|\"Qubit,Site,n=3\"), (dim=8|id=31|\"Link,l=3\"), (dim=4|id=234|\"Link,l=2\"))\n",
       "[4] ((dim=2|id=78|\"Qubit,Site,n=4\"), (dim=16|id=944|\"Link,l=4\"), (dim=8|id=31|\"Link,l=3\"))\n",
       "[5] ((dim=2|id=435|\"Qubit,Site,n=5\"), (dim=32|id=651|\"Link,l=5\"), (dim=16|id=944|\"Link,l=4\"))\n",
       "[6] ((dim=2|id=331|\"Qubit,Site,n=6\"), (dim=64|id=217|\"Link,l=6\"), (dim=32|id=651|\"Link,l=5\"))\n",
       "[7] ((dim=2|id=831|\"Qubit,Site,n=7\"), (dim=86|id=54|\"Link,l=7\"), (dim=64|id=217|\"Link,l=6\"))\n",
       "[8] ((dim=2|id=617|\"Qubit,Site,n=8\"), (dim=64|id=127|\"Link,l=8\"), (dim=86|id=54|\"Link,l=7\"))\n",
       "[9] ((dim=2|id=505|\"Qubit,Site,n=9\"), (dim=32|id=551|\"Link,l=9\"), (dim=64|id=127|\"Link,l=8\"))\n",
       "[10] ((dim=2|id=508|\"Qubit,Site,n=10\"), (dim=16|id=23|\"Link,l=10\"), (dim=32|id=551|\"Link,l=9\"))\n",
       "[11] ((dim=2|id=450|\"Qubit,Site,n=11\"), (dim=8|id=157|\"Link,l=11\"), (dim=16|id=23|\"Link,l=10\"))\n",
       "[12] ((dim=2|id=213|\"Qubit,Site,n=12\"), (dim=4|id=770|\"Link,l=12\"), (dim=8|id=157|\"Link,l=11\"))\n",
       "[13] ((dim=2|id=97|\"Qubit,Site,n=13\"), (dim=2|id=688|\"Link,l=13\"), (dim=4|id=770|\"Link,l=12\"))\n",
       "[14] ((dim=2|id=868|\"Qubit,Site,n=14\"), (dim=2|id=688|\"Link,l=13\"))\n",
       ", Dict{Symbol, Vector{Float64}}(), (Bool[0 1 … 0 1; 0 1 … 0 1; … ; 0 1 … 1 0; 1 0 … 1 1], Bool[1 1 … 0 0; 1 0 … 1 0; … ; 1 0 … 0 0; 0 0 … 0 0]), ([0.0 0.0 … 0.0 0.0; 0.24883583500640438 -0.10366064510195012 … 0.027480694799644045 -0.0774176420208838; … ; -0.043985452867499546 -0.04510590569869061 … 0.07135770186662917 0.16346065618943104; 0.07075162291532504 -0.038872645503777684 … -0.05966145507934713 0.3412972873090575], [0.5917345473982598 0.17601370862607443 … 0.2669482806141102 0.6674293314499968; -0.26143873324019773 -0.5351344935748875 … 0.49492306411373127 0.26618611616239; … ; -0.5684736708011271 -0.6416436760602882 … 0.2053038553680558 -0.5544806608182231; -0.5753637466651177 0.16399435277061197 … 0.6159790165987021 0.4457182237996498]))"
      ]
     },
     "metadata": {},
     "output_type": "display_data"
    }
   ],
   "source": [
    "L = 6\n",
    "T = 2L\n",
    "λ = 0.2\n",
    "δ = 0.7\n",
    "q = 0.1\n",
    "ρ, data, ms, vals = circuit(L,T,λ,δ,q; cutoff=1E-16, maxdim=400)"
   ]
  },
  {
   "cell_type": "code",
   "execution_count": 69,
   "id": "6f5c5134",
   "metadata": {},
   "outputs": [
    {
     "data": {
      "text/plain": [
       "(sparse([1, 2, 3, 4, 5, 6, 7, 8, 9, 10  …  119, 120, 121, 122, 123, 124, 125, 126, 127, 128], [1, 1, 1, 1, 1, 1, 1, 1, 1, 1  …  128, 128, 128, 128, 128, 128, 128, 128, 128, 128], [0.0019176981428444702, -3.492363515472949e-5, 2.5580676871382873e-5, 1.928731465399848e-6, -2.5018742300519056e-5, 3.039486390014794e-7, -3.301240458559384e-5, -7.205351830040005e-6, -0.0005220689290259519, 3.6968046531219255e-6  …  3.6968046531219255e-6, -0.0005220689290259519, -7.205351830040005e-6, -3.301240458559384e-5, 3.039486390014794e-7, -2.5018742300519056e-5, 1.928731465399848e-6, 2.5580676871382873e-5, -3.492363515472949e-5, 0.0019176981428444702], 128, 128), ([0.0 0.0 … 0.0 0.0; 0.24883583500640438 -0.1036606451019502 … 0.02748069479964425 -0.07741764202088293; … ; -0.043985452345954454 -0.04510590526204593 … 0.07135770202665209 0.16346065588478845; 0.07075162265115681 -0.0388726461122686 … -0.059661455248702894 0.34129728731332365], [0.5917345473982598 0.17601370862607382 … 0.26694828061411024 0.6674293314499967; -0.2614387332402019 -0.5351344935748839 … 0.4949230641137284 0.2661861161623908; … ; -0.5684736715301387 -0.6416436784537055 … 0.20530385543229124 -0.5544806602369193; -0.5753637450385362 0.1639943494131294 … 0.6159790185752873 0.44571822399405636]), Dict{Symbol, Vector{Float64}}())"
      ]
     },
     "metadata": {},
     "output_type": "display_data"
    }
   ],
   "source": [
    "L = 6\n",
    "T = 2L\n",
    "λ = 0.2\n",
    "δ = 0.7\n",
    "q = 0.1\n",
    "ρ2, vals2, data = ED_full(L,T,λ,δ,q, ms[1], ms[2])"
   ]
  },
  {
   "cell_type": "code",
   "execution_count": 73,
   "id": "3a2cc289",
   "metadata": {},
   "outputs": [
    {
     "data": {
      "text/plain": [
       "true"
      ]
     },
     "metadata": {},
     "output_type": "display_data"
    }
   ],
   "source": [
    "tol = 1E-7\n",
    "all(abs.(vals[1] - vals2[1]) .< tol) && all(abs.(vals[2] - vals2[2]) .< tol)"
   ]
  },
  {
   "cell_type": "code",
   "execution_count": 67,
   "id": "e8f5656c",
   "metadata": {},
   "outputs": [
    {
     "data": {
      "text/plain": [
       "true"
      ]
     },
     "metadata": {},
     "output_type": "display_data"
    }
   ],
   "source": [
    "all(abs.(to_matrix(ρ) .- ρ2) .< 1E-8)"
   ]
  },
  {
   "cell_type": "code",
   "execution_count": null,
   "id": "1f1c5798",
   "metadata": {},
   "outputs": [],
   "source": []
  }
 ],
 "metadata": {
  "kernelspec": {
   "display_name": "Julia 1.11.5",
   "language": "julia",
   "name": "julia-1.11"
  },
  "language_info": {
   "file_extension": ".jl",
   "mimetype": "application/julia",
   "name": "julia",
   "version": "1.11.5"
  }
 },
 "nbformat": 4,
 "nbformat_minor": 5
}
