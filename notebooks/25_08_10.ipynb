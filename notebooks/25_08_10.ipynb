{
 "cells": [
  {
   "cell_type": "code",
   "execution_count": 1,
   "id": "4c3311fd",
   "metadata": {},
   "outputs": [],
   "source": [
    "using JLD2"
   ]
  },
  {
   "cell_type": "code",
   "execution_count": 2,
   "id": "3cde6403",
   "metadata": {},
   "outputs": [
    {
     "data": {
      "text/plain": [
       "JLDFile /Users/jhauser/Code/2025_ZZX_TNs/output/collated_results.jld2 (read-only)\n",
       " └─🔢 results"
      ]
     },
     "metadata": {},
     "output_type": "display_data"
    }
   ],
   "source": [
    "data = jldopen(\"../output/collated_results.jld2\")"
   ]
  },
  {
   "cell_type": "code",
   "execution_count": 10,
   "id": "2e5c4d90",
   "metadata": {},
   "outputs": [
    {
     "data": {
      "text/plain": [
       "486.3746769428253"
      ]
     },
     "metadata": {},
     "output_type": "display_data"
    }
   ],
   "source": [
    "data[\"results\"][(40,82,0.5,0.7,0.1)][5]"
   ]
  },
  {
   "cell_type": "code",
   "execution_count": 25,
   "id": "245fd8a2",
   "metadata": {},
   "outputs": [
    {
     "data": {
      "text/plain": [
       "15.262562990188599"
      ]
     },
     "metadata": {},
     "output_type": "display_data"
    }
   ],
   "source": [
    "max([data[\"results\"][(8,18,λ,0.7,0.1)][5] for λ in 0.0:0.1:1.0]...)"
   ]
  },
  {
   "cell_type": "code",
   "execution_count": 24,
   "id": "c6497f22",
   "metadata": {},
   "outputs": [
    {
     "data": {
      "text/plain": [
       "210.21856307983398"
      ]
     },
     "metadata": {},
     "output_type": "display_data"
    }
   ],
   "source": [
    "max([data[\"results\"][(16,34,λ,0.7,0.1)][5] for λ in 0.0:0.1:1.0]...)"
   ]
  },
  {
   "cell_type": "code",
   "execution_count": 23,
   "id": "2bcc05a0",
   "metadata": {},
   "outputs": [
    {
     "data": {
      "text/plain": [
       "139.1495909690857"
      ]
     },
     "metadata": {},
     "output_type": "display_data"
    }
   ],
   "source": [
    "max([data[\"results\"][(24,50,λ,0.7,0.1)][5] for λ in 0.0:0.1:1.0]...)"
   ]
  },
  {
   "cell_type": "code",
   "execution_count": 22,
   "id": "24e2d959",
   "metadata": {},
   "outputs": [
    {
     "data": {
      "text/plain": [
       "270.6199858188629"
      ]
     },
     "metadata": {},
     "output_type": "display_data"
    }
   ],
   "source": [
    "max([data[\"results\"][(32,66,λ,0.7,0.1)][5] for λ in 0.0:0.1:1.0]...)"
   ]
  },
  {
   "cell_type": "code",
   "execution_count": 21,
   "id": "874ecb83",
   "metadata": {},
   "outputs": [
    {
     "data": {
      "text/plain": [
       "486.3746769428253"
      ]
     },
     "metadata": {},
     "output_type": "display_data"
    }
   ],
   "source": [
    "max([data[\"results\"][(40,82,λ,0.7,0.1)][5] for λ in 0.0:0.1:1.0]...)"
   ]
  },
  {
   "cell_type": "code",
   "execution_count": null,
   "id": "50979eb6",
   "metadata": {},
   "outputs": [],
   "source": []
  }
 ],
 "metadata": {
  "kernelspec": {
   "display_name": "Julia 1.11.6",
   "language": "julia",
   "name": "julia-1.11"
  },
  "language_info": {
   "file_extension": ".jl",
   "mimetype": "application/julia",
   "name": "julia",
   "version": "1.11.6"
  }
 },
 "nbformat": 4,
 "nbformat_minor": 5
}
